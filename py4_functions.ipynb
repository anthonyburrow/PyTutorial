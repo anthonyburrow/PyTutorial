{
 "cells": [
  {
   "cell_type": "markdown",
   "metadata": {},
   "source": [
    "# Functions in Python"
   ]
  },
  {
   "cell_type": "markdown",
   "metadata": {},
   "source": [
    "## Functions\n",
    "\n",
    "### Functions are objects that are run when called. These functions can perform specific sets of operations. They can have dependencies (arguments/parameters) as well as a return value, which are both covered in later sections."
   ]
  },
  {
   "cell_type": "markdown",
   "metadata": {},
   "source": [
    "#### You must define a function before you call it using the `def` keyword:"
   ]
  },
  {
   "cell_type": "code",
   "execution_count": 50,
   "metadata": {},
   "outputs": [],
   "source": [
    "def func_name():\n",
    "    # do something\n",
    "    pass"
   ]
  },
  {
   "cell_type": "markdown",
   "metadata": {},
   "source": [
    "#### You call a function simply as follows:"
   ]
  },
  {
   "cell_type": "code",
   "execution_count": 51,
   "metadata": {},
   "outputs": [
    {
     "name": "stdout",
     "output_type": "stream",
     "text": [
      "This function has been called\n"
     ]
    }
   ],
   "source": [
    "def p():\n",
    "    print('This function has been called')\n",
    "\n",
    "p()"
   ]
  },
  {
   "cell_type": "markdown",
   "metadata": {},
   "source": [
    "## Arguments\n",
    "\n",
    "### You may pass arguments to functions. That is to say, the actions of the function will be dependent on what you pass it."
   ]
  },
  {
   "cell_type": "code",
   "execution_count": 52,
   "metadata": {},
   "outputs": [],
   "source": [
    "def f(x):\n",
    "    print(f'Passed: {x}')"
   ]
  },
  {
   "cell_type": "markdown",
   "metadata": {},
   "source": [
    "#### It is called in the same way:"
   ]
  },
  {
   "cell_type": "code",
   "execution_count": 53,
   "metadata": {},
   "outputs": [
    {
     "name": "stdout",
     "output_type": "stream",
     "text": [
      "Passed: 2\n"
     ]
    }
   ],
   "source": [
    "f(2)"
   ]
  },
  {
   "cell_type": "markdown",
   "metadata": {},
   "source": [
    "#### You can have as many arguments as you would like. You can also include logic and set new variables in the function definition. Any variable values set in functions only apply inside the function as they are removed from memory:"
   ]
  },
  {
   "cell_type": "code",
   "execution_count": 54,
   "metadata": {},
   "outputs": [
    {
     "name": "stdout",
     "output_type": "stream",
     "text": [
      "Inside unit sphere\n"
     ]
    }
   ],
   "source": [
    "def in_unit(x, y, z):\n",
    "    r = x**2 + y**2 + z**2\n",
    "    if r <= 1:\n",
    "        print(f'Inside unit sphere')\n",
    "    else:\n",
    "        print(f'Outside unit sphere')\n",
    "\n",
    "in_unit(0.5, 0.5, 0.5)\n",
    "# trying to call the `r` from inside the function here will result in an error"
   ]
  },
  {
   "cell_type": "markdown",
   "metadata": {},
   "source": [
    "#### Arguments can have default values, which are set in its definition. This allows you to optionally set certain parameters. The non-optional arguments must always go before optional ones, however. With optional arguments, is usually more readable to specify the variable you're setting, since order of optional arguments do not matter when passed."
   ]
  },
  {
   "cell_type": "code",
   "execution_count": 55,
   "metadata": {},
   "outputs": [],
   "source": [
    "def f(x, a=1, b=1):\n",
    "    print(f'x = {x}, a = {a}, b = {b}')"
   ]
  },
  {
   "cell_type": "code",
   "execution_count": 56,
   "metadata": {},
   "outputs": [
    {
     "name": "stdout",
     "output_type": "stream",
     "text": [
      "x = 2, a = 1, b = 1\n"
     ]
    }
   ],
   "source": [
    "f(2)"
   ]
  },
  {
   "cell_type": "code",
   "execution_count": 57,
   "metadata": {},
   "outputs": [
    {
     "name": "stdout",
     "output_type": "stream",
     "text": [
      "x = 2, a = 3, b = 1\n"
     ]
    }
   ],
   "source": [
    "f(2, a=3)"
   ]
  },
  {
   "cell_type": "code",
   "execution_count": 58,
   "metadata": {},
   "outputs": [
    {
     "name": "stdout",
     "output_type": "stream",
     "text": [
      "x = 2, a = 9, b = 4\n"
     ]
    }
   ],
   "source": [
    "f(x=2, b=4, a=9)"
   ]
  },
  {
   "cell_type": "markdown",
   "metadata": {},
   "source": [
    "#### You can also reassign passed arguments:"
   ]
  },
  {
   "cell_type": "code",
   "execution_count": 59,
   "metadata": {},
   "outputs": [
    {
     "name": "stdout",
     "output_type": "stream",
     "text": [
      "1\n",
      "2\n"
     ]
    }
   ],
   "source": [
    "def f(x):\n",
    "    print(x)\n",
    "    x += 1\n",
    "    print(x)\n",
    "\n",
    "f(1)"
   ]
  },
  {
   "cell_type": "markdown",
   "metadata": {},
   "source": [
    "#### You can pass a list/tuple of values to a function, where each value corresponds to a single parameter, using `*` before it as follows:"
   ]
  },
  {
   "cell_type": "code",
   "execution_count": 60,
   "metadata": {},
   "outputs": [
    {
     "name": "stdout",
     "output_type": "stream",
     "text": [
      "x = 1, y = 2, z = 3, w = another arg\n"
     ]
    }
   ],
   "source": [
    "def f(x, y, z, w):\n",
    "    print(f'x = {x}, y = {y}, z = {z}, w = {w}')\n",
    "    \n",
    "coo = (1, 2, 3)\n",
    "f(*coo, 'another arg')"
   ]
  },
  {
   "cell_type": "markdown",
   "metadata": {},
   "source": [
    "## Returning\n",
    "\n",
    "### Functions always have return values, whether specified or not. When specified, the `return` operator is used. You can store the function output (return value) as you call the function, and this output depends on how you use the `return` operator in the function."
   ]
  },
  {
   "cell_type": "markdown",
   "metadata": {},
   "source": [
    "#### The default return value is None. This occurs at the end of the function if `return` is not called, or whenever return is called in the function."
   ]
  },
  {
   "cell_type": "code",
   "execution_count": 61,
   "metadata": {},
   "outputs": [
    {
     "name": "stdout",
     "output_type": "stream",
     "text": [
      "`f` is called\n",
      "None <class 'NoneType'>\n"
     ]
    }
   ],
   "source": [
    "def f():\n",
    "    print('`f` is called')\n",
    "    return   # if this is at the end, it's the same as if it were omitted\n",
    "x = f()\n",
    "print(x, type(x))"
   ]
  },
  {
   "cell_type": "markdown",
   "metadata": {},
   "source": [
    "#### You can place `return` wherever you would like to suit what you want the function to do:"
   ]
  },
  {
   "cell_type": "code",
   "execution_count": 62,
   "metadata": {},
   "outputs": [
    {
     "name": "stdout",
     "output_type": "stream",
     "text": [
      "2 is above 1\n",
      "0 is less than/equal to 1\n"
     ]
    }
   ],
   "source": [
    "def check(x):\n",
    "    if x > 1:\n",
    "        print(f'{x} is above 1')\n",
    "        return\n",
    "    print(f'{x} is less than/equal to 1')\n",
    "\n",
    "x = check(2)   # still None-valued\n",
    "y = check(0)"
   ]
  },
  {
   "cell_type": "markdown",
   "metadata": {},
   "source": [
    "#### You don't have to return nothing. You can return any value you want:"
   ]
  },
  {
   "cell_type": "code",
   "execution_count": 63,
   "metadata": {},
   "outputs": [
    {
     "data": {
      "text/plain": [
       "4"
      ]
     },
     "execution_count": 63,
     "metadata": {},
     "output_type": "execute_result"
    }
   ],
   "source": [
    "def f(x):\n",
    "    return x**2\n",
    "\n",
    "f(2)"
   ]
  },
  {
   "cell_type": "code",
   "execution_count": 64,
   "metadata": {},
   "outputs": [
    {
     "data": {
      "text/plain": [
       "[2, 2, 2]"
      ]
     },
     "execution_count": 64,
     "metadata": {},
     "output_type": "execute_result"
    }
   ],
   "source": [
    "def f(x, n):\n",
    "    l = []\n",
    "    for i in range(n):\n",
    "        l.append(x)\n",
    "    return l\n",
    "\n",
    "l = f(2, 3)\n",
    "l"
   ]
  },
  {
   "cell_type": "markdown",
   "metadata": {},
   "source": [
    "#### You can return multiple values in the form of a tuple:"
   ]
  },
  {
   "cell_type": "code",
   "execution_count": 65,
   "metadata": {},
   "outputs": [
    {
     "name": "stdout",
     "output_type": "stream",
     "text": [
      "2\n",
      "4\n"
     ]
    }
   ],
   "source": [
    "def double(x, y):\n",
    "    x_new = 2 * x\n",
    "    y_new = 2 * y\n",
    "    return x_new, y_new\n",
    "\n",
    "x, y = double(1, 2)\n",
    "print(x)\n",
    "print(y)"
   ]
  },
  {
   "cell_type": "markdown",
   "metadata": {},
   "source": [
    "## `*args` and `**kwargs`\n",
    "\n",
    "### `*args` and `**kwargs` are used to take in any number of extra arguments and keyworded arguments, respectively. They are often used to call other functions within the outer function."
   ]
  },
  {
   "cell_type": "markdown",
   "metadata": {},
   "source": [
    "#### Using `*args` at the end of the parameter list for general arguments:"
   ]
  },
  {
   "cell_type": "code",
   "execution_count": 66,
   "metadata": {},
   "outputs": [
    {
     "name": "stdout",
     "output_type": "stream",
     "text": [
      "2 (3, 4, 5)\n"
     ]
    }
   ],
   "source": [
    "def f(x, *args):\n",
    "    print(x, args)\n",
    "\n",
    "f(2, 3, 4, 5)"
   ]
  },
  {
   "cell_type": "markdown",
   "metadata": {},
   "source": [
    "#### Keyworded arguments are those that go toward specific parameter, as you would get an error in doing so with just `*args`. You use `**kwargs` in the same way as `*args`:"
   ]
  },
  {
   "cell_type": "code",
   "execution_count": 67,
   "metadata": {},
   "outputs": [
    {
     "name": "stdout",
     "output_type": "stream",
     "text": [
      "2 {'a': 3, 'b': 4, 'c': 5}\n"
     ]
    }
   ],
   "source": [
    "def f(x, **kwargs):\n",
    "    print(x, kwargs)\n",
    "\n",
    "f(2, a=3, b=4, c=5)"
   ]
  },
  {
   "cell_type": "markdown",
   "metadata": {},
   "source": [
    "#### Together, the function is fully generalized:"
   ]
  },
  {
   "cell_type": "code",
   "execution_count": 68,
   "metadata": {},
   "outputs": [
    {
     "name": "stdout",
     "output_type": "stream",
     "text": [
      "2\n",
      "(3, 4)\n",
      "{'a': 5, 'b': 6}\n"
     ]
    }
   ],
   "source": [
    "def f(x, *args, **kwargs):\n",
    "    print(x)\n",
    "    print(args)\n",
    "    print(kwargs)\n",
    "\n",
    "f(2, 3, 4, a=5, b=6)"
   ]
  },
  {
   "cell_type": "markdown",
   "metadata": {},
   "source": [
    "#### You must still have keyworded arguments after regular arguments, as is defined when you order them as `*args, **kwargs` in the function definition."
   ]
  },
  {
   "cell_type": "markdown",
   "metadata": {},
   "source": [
    "## Generators\n",
    "\n",
    "### You can create generators in a similar way to defining functions. The main difference is that instead of `return`ing a value, you `yield` a value instead."
   ]
  },
  {
   "cell_type": "markdown",
   "metadata": {},
   "source": [
    "#### A generator is created as follows:"
   ]
  },
  {
   "cell_type": "code",
   "execution_count": 69,
   "metadata": {},
   "outputs": [
    {
     "name": "stdout",
     "output_type": "stream",
     "text": [
      "<generator object my_range at 0x0120BFB0> <class 'generator'>\n",
      "0\n",
      "1\n",
      "2\n",
      "3\n",
      "4\n"
     ]
    }
   ],
   "source": [
    "def my_range(n):\n",
    "    i = 0\n",
    "    while i < n:\n",
    "        yield i\n",
    "        i += 1\n",
    "\n",
    "x = my_range(5)\n",
    "print(x, type(x))\n",
    "for i in x:\n",
    "    print(i)"
   ]
  },
  {
   "cell_type": "markdown",
   "metadata": {},
   "source": [
    "#### Remember, when you call the function you are calling a generator object. You must iterate over it to make use of it. This method is more explicit and offers more (readable) opportunity to include logic, etc. than list comprehension."
   ]
  },
  {
   "cell_type": "code",
   "execution_count": 70,
   "metadata": {},
   "outputs": [
    {
     "name": "stdout",
     "output_type": "stream",
     "text": [
      "[0, 1, 4, 9, 16] [0, 1, 4, 9, 16]\n"
     ]
    }
   ],
   "source": [
    "my_list = [0, 1, 2, 3, 4]\n",
    "\n",
    "def my_gen(l):\n",
    "    for i in l:\n",
    "        yield i**2\n",
    "\n",
    "x = my_gen(my_list)\n",
    "y = (i**2 for i in my_list)\n",
    "\n",
    "print(list(x), list(y))"
   ]
  },
  {
   "cell_type": "markdown",
   "metadata": {},
   "source": [
    "#### `x` and `y` here are the same generators."
   ]
  }
 ],
 "metadata": {
  "kernelspec": {
   "display_name": "Python 3",
   "language": "python",
   "name": "python3"
  },
  "language_info": {
   "codemirror_mode": {
    "name": "ipython",
    "version": 3
   },
   "file_extension": ".py",
   "mimetype": "text/x-python",
   "name": "python",
   "nbconvert_exporter": "python",
   "pygments_lexer": "ipython3",
   "version": "3.7.0"
  }
 },
 "nbformat": 4,
 "nbformat_minor": 4
}

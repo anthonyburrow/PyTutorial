{
 "cells": [
  {
   "cell_type": "markdown",
   "metadata": {},
   "source": [
    "# Logic in Python"
   ]
  },
  {
   "cell_type": "markdown",
   "metadata": {},
   "source": [
    "## Bools\n",
    "\n",
    "Bools are another common data type. They only have a value of `True` or `False`. Truth values are the basis of logic in general, and propositions/statements created in code always return truth values just like in math."
   ]
  },
  {
   "cell_type": "code",
   "execution_count": 1,
   "metadata": {},
   "outputs": [
    {
     "name": "stdout",
     "output_type": "stream",
     "text": [
      "True\n"
     ]
    }
   ],
   "source": [
    "x = True\n",
    "print(x)"
   ]
  },
  {
   "cell_type": "code",
   "execution_count": 2,
   "metadata": {},
   "outputs": [
    {
     "name": "stdout",
     "output_type": "stream",
     "text": [
      "False\n"
     ]
    }
   ],
   "source": [
    "# These truth values can be stored:\n",
    "x = [0, 1, 2]\n",
    "contains_three = 3 in x\n",
    "print(contains_three)"
   ]
  },
  {
   "cell_type": "markdown",
   "metadata": {},
   "source": [
    "## Logical and Comparison Operators\n",
    "\n",
    "Logical and comparison operators are the basic logical operations."
   ]
  },
  {
   "cell_type": "code",
   "execution_count": 3,
   "metadata": {},
   "outputs": [
    {
     "data": {
      "text/plain": [
       "True"
      ]
     },
     "execution_count": 3,
     "metadata": {},
     "output_type": "execute_result"
    }
   ],
   "source": [
    "x = True\n",
    "y = False\n",
    "\n",
    "# Negation\n",
    "not x   # False\n",
    "\n",
    "# Logical 'and'\n",
    "x and y   # False\n",
    "\n",
    "# Logical 'or'\n",
    "x or y   # True"
   ]
  },
  {
   "cell_type": "code",
   "execution_count": 4,
   "metadata": {},
   "outputs": [
    {
     "data": {
      "text/plain": [
       "False"
      ]
     },
     "execution_count": 4,
     "metadata": {},
     "output_type": "execute_result"
    }
   ],
   "source": [
    "x = 3\n",
    "\n",
    "# Equality\n",
    "x == 3   # True\n",
    "\n",
    "# Inequality\n",
    "x != 3   # False\n",
    "\n",
    "# Greater than\n",
    "x > 0   # True\n",
    "\n",
    "# Greater than or equal to\n",
    "x >= 3   # True\n",
    "\n",
    "# Less than\n",
    "x < 4   # True\n",
    "\n",
    "# Less than or equal to\n",
    "x <= 1   # False"
   ]
  },
  {
   "cell_type": "markdown",
   "metadata": {},
   "source": [
    "Anything else, such as `in` that has been shown for list membership, also returns truth values."
   ]
  },
  {
   "cell_type": "markdown",
   "metadata": {},
   "source": [
    "## Conditional Statements\n",
    "\n",
    "Conditional statements are the basis of logical programming. These come about in the form of `if`-statements. `if` takes any boolean as an argument."
   ]
  },
  {
   "cell_type": "code",
   "execution_count": 5,
   "metadata": {},
   "outputs": [
    {
     "name": "stdout",
     "output_type": "stream",
     "text": [
      "x is True\n"
     ]
    }
   ],
   "source": [
    "x = True\n",
    "if x:\n",
    "    print('x is True')"
   ]
  },
  {
   "cell_type": "markdown",
   "metadata": {},
   "source": [
    "You can add an `else` statement that occurs when the `if` condition is not met:"
   ]
  },
  {
   "cell_type": "code",
   "execution_count": 6,
   "metadata": {},
   "outputs": [
    {
     "name": "stdout",
     "output_type": "stream",
     "text": [
      "x is False\n"
     ]
    }
   ],
   "source": [
    "x = False\n",
    "if x:\n",
    "    print('x is True')\n",
    "else:\n",
    "    print('x is False')"
   ]
  },
  {
   "cell_type": "markdown",
   "metadata": {},
   "source": [
    "You can have multiple cases for a single `if`-statement using any number of `elif` (\"else-if\") statements. Note that only one case can be a result. It checks from the first condition to the last, and if any condition is met, it stops checking those that come after."
   ]
  },
  {
   "cell_type": "code",
   "execution_count": 7,
   "metadata": {},
   "outputs": [
    {
     "name": "stdout",
     "output_type": "stream",
     "text": [
      "y is True\n"
     ]
    }
   ],
   "source": [
    "x = False\n",
    "y = True\n",
    "z = True\n",
    "if x:\n",
    "    print('x is True')\n",
    "elif y:\n",
    "    print('y is True')\n",
    "elif z:\n",
    "    print('z is True')\n",
    "else:\n",
    "    print('None were True')"
   ]
  },
  {
   "cell_type": "markdown",
   "metadata": {},
   "source": [
    "Note that ending the `if`-`elif` statements with an `else` provides a \"default\" or null case which is often useful.\n",
    "\n",
    "Of course you can use any logical/comparison operator in the if-statement:"
   ]
  },
  {
   "cell_type": "code",
   "execution_count": 8,
   "metadata": {},
   "outputs": [
    {
     "name": "stdout",
     "output_type": "stream",
     "text": [
      "Either x or y is True\n"
     ]
    }
   ],
   "source": [
    "x = False\n",
    "y = True\n",
    "if x or y:\n",
    "    print('Either x or y is True')\n",
    "else:\n",
    "    print('Neither x nor y is True')"
   ]
  },
  {
   "cell_type": "markdown",
   "metadata": {},
   "source": [
    "It's also worth noting that in Python you can chain together checks for less than/greater than:"
   ]
  },
  {
   "cell_type": "code",
   "execution_count": 9,
   "metadata": {},
   "outputs": [
    {
     "name": "stdout",
     "output_type": "stream",
     "text": [
      "Outside 0 and 1\n"
     ]
    }
   ],
   "source": [
    "x = 3.\n",
    "if 0 < x < 1:\n",
    "    print('Between 0 and 1')\n",
    "else:\n",
    "    print('Outside 0 and 1')"
   ]
  },
  {
   "cell_type": "markdown",
   "metadata": {},
   "source": [
    "You can also created \"nested\" `if`-statements, although for idiomatic Python you want to limit the amount you nest for the sake of readability and understandability."
   ]
  },
  {
   "cell_type": "code",
   "execution_count": 10,
   "metadata": {},
   "outputs": [
    {
     "name": "stdout",
     "output_type": "stream",
     "text": [
      "Between 0 and 10\n"
     ]
    }
   ],
   "source": [
    "x = 3\n",
    "if x > 0:\n",
    "    if x < 10:\n",
    "        print('Between 0 and 10')"
   ]
  },
  {
   "cell_type": "markdown",
   "metadata": {},
   "source": [
    "## Conversions to Boolean Type\n",
    "\n",
    "When using `if`-statements or anytime `bool()` converts an argument to the `bool` type, you may use other non-`bool` values. When doing so, there are specific rules for the conversions for what is considered False versus what is considered True."
   ]
  },
  {
   "cell_type": "markdown",
   "metadata": {},
   "source": [
    "0 is generally considered False in C-based languages such as Python, and 1 is True. However, in Python, any number that is nonzero is considered True:"
   ]
  },
  {
   "cell_type": "code",
   "execution_count": 11,
   "metadata": {},
   "outputs": [
    {
     "name": "stdout",
     "output_type": "stream",
     "text": [
      "False\n"
     ]
    }
   ],
   "source": [
    "print(bool(0))"
   ]
  },
  {
   "cell_type": "code",
   "execution_count": 12,
   "metadata": {},
   "outputs": [
    {
     "name": "stdout",
     "output_type": "stream",
     "text": [
      "True\n"
     ]
    }
   ],
   "source": [
    "print(bool(1))"
   ]
  },
  {
   "cell_type": "code",
   "execution_count": 13,
   "metadata": {},
   "outputs": [
    {
     "name": "stdout",
     "output_type": "stream",
     "text": [
      "True\n"
     ]
    }
   ],
   "source": [
    "print(bool(-3.4))"
   ]
  },
  {
   "cell_type": "markdown",
   "metadata": {},
   "source": [
    "Empty strings, lists, dictionaries, etc. are considered False; otherwise, they are True:"
   ]
  },
  {
   "cell_type": "code",
   "execution_count": 14,
   "metadata": {},
   "outputs": [
    {
     "name": "stdout",
     "output_type": "stream",
     "text": [
      "False\n"
     ]
    }
   ],
   "source": [
    "print(bool(''))"
   ]
  },
  {
   "cell_type": "code",
   "execution_count": 15,
   "metadata": {},
   "outputs": [
    {
     "name": "stdout",
     "output_type": "stream",
     "text": [
      "False\n"
     ]
    }
   ],
   "source": [
    "print(bool({}))"
   ]
  },
  {
   "cell_type": "code",
   "execution_count": 16,
   "metadata": {},
   "outputs": [
    {
     "name": "stdout",
     "output_type": "stream",
     "text": [
      "True\n"
     ]
    }
   ],
   "source": [
    "# True, even though it contains a 0 (because the string is not empty)\n",
    "print(bool('0'))"
   ]
  },
  {
   "cell_type": "code",
   "execution_count": 17,
   "metadata": {},
   "outputs": [
    {
     "name": "stdout",
     "output_type": "stream",
     "text": [
      "True\n"
     ]
    }
   ],
   "source": [
    "# True, even though it contains a 0 (because the list is not empty)\n",
    "print(bool([0]))"
   ]
  },
  {
   "cell_type": "markdown",
   "metadata": {},
   "source": [
    "## Ternary Operators\n",
    "\n",
    "Python allows you to write short, one-line expressions as an `if`-statement that is called a ternary operator with the following structure:\n",
    "\n",
    "`value_if_true` if `condition` else `value_if_false`"
   ]
  },
  {
   "cell_type": "code",
   "execution_count": 18,
   "metadata": {},
   "outputs": [
    {
     "name": "stdout",
     "output_type": "stream",
     "text": [
      "pass\n"
     ]
    }
   ],
   "source": [
    "score = 95\n",
    "grade = 'pass' if score >= 60 else 'fail'\n",
    "print(grade)"
   ]
  }
 ],
 "metadata": {
  "kernelspec": {
   "display_name": "Python 3 (ipykernel)",
   "language": "python",
   "name": "python3"
  },
  "language_info": {
   "codemirror_mode": {
    "name": "ipython",
    "version": 3
   },
   "file_extension": ".py",
   "mimetype": "text/x-python",
   "name": "python",
   "nbconvert_exporter": "python",
   "pygments_lexer": "ipython3",
   "version": "3.10.7"
  }
 },
 "nbformat": 4,
 "nbformat_minor": 4
}

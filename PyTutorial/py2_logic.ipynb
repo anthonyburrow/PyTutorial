{
 "cells": [
  {
   "cell_type": "markdown",
   "metadata": {},
   "source": [
    "# Logic in Python"
   ]
  },
  {
   "cell_type": "markdown",
   "metadata": {},
   "source": [
    "## Bools"
   ]
  },
  {
   "cell_type": "markdown",
   "metadata": {},
   "source": [
    "### Bools are another common data type. They only have a value of True or False. Truth values are the basis of logic in general, and propositions/statements always return truth values just like in math."
   ]
  },
  {
   "cell_type": "code",
   "execution_count": 28,
   "metadata": {},
   "outputs": [
    {
     "data": {
      "text/plain": [
       "True"
      ]
     },
     "execution_count": 28,
     "metadata": {},
     "output_type": "execute_result"
    }
   ],
   "source": [
    "x = True\n",
    "x"
   ]
  },
  {
   "cell_type": "markdown",
   "metadata": {},
   "source": [
    "#### These truth values can be stored in any way:"
   ]
  },
  {
   "cell_type": "code",
   "execution_count": 29,
   "metadata": {},
   "outputs": [
    {
     "data": {
      "text/plain": [
       "False"
      ]
     },
     "execution_count": 29,
     "metadata": {},
     "output_type": "execute_result"
    }
   ],
   "source": [
    "x = [0, 1, 2]\n",
    "y = 3 in x\n",
    "y"
   ]
  },
  {
   "cell_type": "markdown",
   "metadata": {},
   "source": [
    "## Logical and Comparison Operators\n",
    "\n",
    "### Logical and comparison operators make up logical propositions."
   ]
  },
  {
   "cell_type": "code",
   "execution_count": 30,
   "metadata": {},
   "outputs": [],
   "source": [
    "x = True\n",
    "y = False\n",
    "\n",
    "# negation\n",
    "not x   # False\n",
    "\n",
    "# logical 'and'\n",
    "x and y   # False\n",
    "\n",
    "# logical 'or'\n",
    "x or y;   # True"
   ]
  },
  {
   "cell_type": "code",
   "execution_count": 31,
   "metadata": {},
   "outputs": [],
   "source": [
    "x = 3\n",
    "\n",
    "# equality\n",
    "x == 3   # True\n",
    "\n",
    "# inequality\n",
    "x != 3   # False\n",
    "\n",
    "# greater than\n",
    "x > 0   # True\n",
    "\n",
    "# greater than or equal to\n",
    "x >= 3   # True\n",
    "\n",
    "# less than\n",
    "x < 4   # True\n",
    "\n",
    "# less than or equal to\n",
    "x <= 1;   # False"
   ]
  },
  {
   "cell_type": "markdown",
   "metadata": {},
   "source": [
    "#### Anything else, such as `in` that has been shown for list/other membership, also provides truth values (see previous section)."
   ]
  },
  {
   "cell_type": "markdown",
   "metadata": {},
   "source": [
    "## Conditional Statements\n",
    "\n",
    "### Conditional statements are the basis of logical programming. These come about in the form of if-statements."
   ]
  },
  {
   "cell_type": "code",
   "execution_count": 32,
   "metadata": {},
   "outputs": [
    {
     "name": "stdout",
     "output_type": "stream",
     "text": [
      "x is True\n"
     ]
    }
   ],
   "source": [
    "x = True\n",
    "if x:\n",
    "    print('x is True')"
   ]
  },
  {
   "cell_type": "markdown",
   "metadata": {},
   "source": [
    "#### You can add an `else` statement that occurs when the `if` condition is not met:"
   ]
  },
  {
   "cell_type": "code",
   "execution_count": 33,
   "metadata": {},
   "outputs": [
    {
     "name": "stdout",
     "output_type": "stream",
     "text": [
      "x is False\n"
     ]
    }
   ],
   "source": [
    "x = False\n",
    "if x:\n",
    "    print('x is True')\n",
    "else:\n",
    "    print('x is False')"
   ]
  },
  {
   "cell_type": "markdown",
   "metadata": {},
   "source": [
    "#### You can have multiple cases for a single if-statement using any number of `elif` statements. Note that only one case can result. It checks from the first condition to the last, and if any condition is met, it stops checking."
   ]
  },
  {
   "cell_type": "code",
   "execution_count": 34,
   "metadata": {},
   "outputs": [
    {
     "name": "stdout",
     "output_type": "stream",
     "text": [
      "y is True\n"
     ]
    }
   ],
   "source": [
    "x = False\n",
    "y = True\n",
    "z = True\n",
    "if x:\n",
    "    print('x is True')\n",
    "elif y:\n",
    "    print('y is True')\n",
    "elif z:\n",
    "    print('z is True')\n",
    "else:\n",
    "    print('None were True')"
   ]
  },
  {
   "cell_type": "markdown",
   "metadata": {},
   "source": [
    "#### Of course you can use any logical/comparison operator in the if-statement:"
   ]
  },
  {
   "cell_type": "code",
   "execution_count": 35,
   "metadata": {},
   "outputs": [
    {
     "name": "stdout",
     "output_type": "stream",
     "text": [
      "Either x or y is True\n"
     ]
    }
   ],
   "source": [
    "x = False\n",
    "y = True\n",
    "if x or y:\n",
    "    print('Either x or y is True')\n",
    "else:\n",
    "    print('Neither x nor y is True')"
   ]
  }
 ],
 "metadata": {
  "kernelspec": {
   "display_name": "Python 3",
   "language": "python",
   "name": "python3"
  },
  "language_info": {
   "codemirror_mode": {
    "name": "ipython",
    "version": 3
   },
   "file_extension": ".py",
   "mimetype": "text/x-python",
   "name": "python",
   "nbconvert_exporter": "python",
   "pygments_lexer": "ipython3",
   "version": "3.7.0"
  }
 },
 "nbformat": 4,
 "nbformat_minor": 4
}

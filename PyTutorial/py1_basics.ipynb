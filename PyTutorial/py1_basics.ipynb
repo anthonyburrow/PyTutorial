{
 "cells": [
  {
   "cell_type": "markdown",
   "metadata": {},
   "source": [
    "# Basic Syntax and Data Types of Python"
   ]
  },
  {
   "cell_type": "markdown",
   "metadata": {},
   "source": [
    "## Variables\n",
    "\n",
    "You can store any data into a variable, which includes basic data types like integers (`int`), floats (`float`), booleans (`bool`, see Logic notebook), as well as any object or even functions, but just look at basic values for now:"
   ]
  },
  {
   "cell_type": "code",
   "execution_count": 1,
   "metadata": {},
   "outputs": [],
   "source": [
    "x = 3\n",
    "y = 2"
   ]
  },
  {
   "cell_type": "markdown",
   "metadata": {},
   "source": [
    "### Note:\n",
    "\n",
    "You can view what is stored in any variable using the `print()` function to write to the console output:"
   ]
  },
  {
   "cell_type": "code",
   "execution_count": 2,
   "metadata": {},
   "outputs": [
    {
     "name": "stdout",
     "output_type": "stream",
     "text": [
      "3\n"
     ]
    }
   ],
   "source": [
    "print(x)"
   ]
  },
  {
   "cell_type": "markdown",
   "metadata": {},
   "source": [
    "You can also write comments in-line with code using the `#` character; anything after `#` will be ignored in processing the code:"
   ]
  },
  {
   "cell_type": "code",
   "execution_count": 3,
   "metadata": {},
   "outputs": [
    {
     "name": "stdout",
     "output_type": "stream",
     "text": [
      "2\n"
     ]
    }
   ],
   "source": [
    "print(y)   # This comment is ignored"
   ]
  },
  {
   "cell_type": "markdown",
   "metadata": {},
   "source": [
    "## Basic Arithmetic\n",
    "\n",
    "You can perform these basic mathematical operations with Python:"
   ]
  },
  {
   "cell_type": "code",
   "execution_count": 4,
   "metadata": {},
   "outputs": [
    {
     "name": "stdout",
     "output_type": "stream",
     "text": [
      "5\n"
     ]
    }
   ],
   "source": [
    "# Addition\n",
    "print(x + y)"
   ]
  },
  {
   "cell_type": "code",
   "execution_count": 5,
   "metadata": {},
   "outputs": [
    {
     "name": "stdout",
     "output_type": "stream",
     "text": [
      "1\n"
     ]
    }
   ],
   "source": [
    "# Subtraction\n",
    "print(x - y)"
   ]
  },
  {
   "cell_type": "code",
   "execution_count": 6,
   "metadata": {},
   "outputs": [
    {
     "name": "stdout",
     "output_type": "stream",
     "text": [
      "6\n"
     ]
    }
   ],
   "source": [
    "# Multiplication\n",
    "print(x * y)"
   ]
  },
  {
   "cell_type": "code",
   "execution_count": 7,
   "metadata": {},
   "outputs": [
    {
     "name": "stdout",
     "output_type": "stream",
     "text": [
      "1.5\n"
     ]
    }
   ],
   "source": [
    "# Division\n",
    "print(x / y)"
   ]
  },
  {
   "cell_type": "code",
   "execution_count": 8,
   "metadata": {},
   "outputs": [
    {
     "name": "stdout",
     "output_type": "stream",
     "text": [
      "1\n"
     ]
    }
   ],
   "source": [
    "# Modulo\n",
    "print(x % y)"
   ]
  },
  {
   "cell_type": "code",
   "execution_count": 9,
   "metadata": {},
   "outputs": [
    {
     "name": "stdout",
     "output_type": "stream",
     "text": [
      "9\n"
     ]
    }
   ],
   "source": [
    "# Exponent\n",
    "print(x**2)"
   ]
  },
  {
   "cell_type": "code",
   "execution_count": 10,
   "metadata": {},
   "outputs": [
    {
     "name": "stdout",
     "output_type": "stream",
     "text": [
      "1\n"
     ]
    }
   ],
   "source": [
    "# Floor division\n",
    "print(x // y)"
   ]
  },
  {
   "cell_type": "markdown",
   "metadata": {},
   "source": [
    "#### There are also shorthands to perform actions such as `x = x + 1` to augment variables in-place:"
   ]
  },
  {
   "cell_type": "code",
   "execution_count": 11,
   "metadata": {},
   "outputs": [
    {
     "name": "stdout",
     "output_type": "stream",
     "text": [
      "6\n"
     ]
    }
   ],
   "source": [
    "x = 5\n",
    "x += 1   # Equivalent to x = x + 1\n",
    "print(x)"
   ]
  },
  {
   "cell_type": "code",
   "execution_count": 12,
   "metadata": {},
   "outputs": [
    {
     "name": "stdout",
     "output_type": "stream",
     "text": [
      "12\n"
     ]
    }
   ],
   "source": [
    "x = 6\n",
    "x *= 2   # Equivalent to x = x * 2\n",
    "print(x)"
   ]
  },
  {
   "cell_type": "code",
   "execution_count": 13,
   "metadata": {},
   "outputs": [
    {
     "name": "stdout",
     "output_type": "stream",
     "text": [
      "1.75\n"
     ]
    }
   ],
   "source": [
    "x = 7\n",
    "x /= 4   # equivalient to x = x / 4\n",
    "print(x)"
   ]
  },
  {
   "cell_type": "markdown",
   "metadata": {},
   "source": [
    "## Strings\n",
    "\n",
    "String (`str`) objects are just sequences/arrays of individual characters. You can treat them as these single entities or as iterables, which are covered later.\n",
    "\n",
    "You can use `''` or `\"\"` to create strings. There is no standard for which to use, but just stay consistent with your choice."
   ]
  },
  {
   "cell_type": "code",
   "execution_count": 14,
   "metadata": {},
   "outputs": [
    {
     "name": "stdout",
     "output_type": "stream",
     "text": [
      "A string\n"
     ]
    }
   ],
   "source": [
    "x = 'A string'\n",
    "print(x)"
   ]
  },
  {
   "cell_type": "markdown",
   "metadata": {},
   "source": [
    "Concatentating strings (adding them together sequentially):"
   ]
  },
  {
   "cell_type": "code",
   "execution_count": 15,
   "metadata": {},
   "outputs": [
    {
     "name": "stdout",
     "output_type": "stream",
     "text": [
      "AddThemTogether\n"
     ]
    }
   ],
   "source": [
    "x = 'Add'\n",
    "y = 'Them'\n",
    "z = 'Together'\n",
    "print(x + y + z)"
   ]
  },
  {
   "cell_type": "markdown",
   "metadata": {},
   "source": [
    "Getting subsets of characters or \"slices\" from strings:\n",
    "\n",
    "Note: This follows list-slicing syntax, where slices return UP TO the second index, not including it. Remember, indices start at 0."
   ]
  },
  {
   "cell_type": "code",
   "execution_count": 16,
   "metadata": {},
   "outputs": [],
   "source": [
    "x = 'String'\n",
    "y = 'Slice'"
   ]
  },
  {
   "cell_type": "code",
   "execution_count": 17,
   "metadata": {},
   "outputs": [
    {
     "name": "stdout",
     "output_type": "stream",
     "text": [
      "S\n"
     ]
    }
   ],
   "source": [
    "print(x[0])"
   ]
  },
  {
   "cell_type": "code",
   "execution_count": 18,
   "metadata": {},
   "outputs": [
    {
     "name": "stdout",
     "output_type": "stream",
     "text": [
      "ice\n"
     ]
    }
   ],
   "source": [
    "print(y[2:5])"
   ]
  },
  {
   "cell_type": "code",
   "execution_count": 19,
   "metadata": {},
   "outputs": [
    {
     "name": "stdout",
     "output_type": "stream",
     "text": [
      "Str\n"
     ]
    }
   ],
   "source": [
    "print(x[:3])   # When there is no starting index, it starts at the beginning of the string"
   ]
  },
  {
   "cell_type": "code",
   "execution_count": 20,
   "metadata": {},
   "outputs": [
    {
     "name": "stdout",
     "output_type": "stream",
     "text": [
      "ing\n"
     ]
    }
   ],
   "source": [
    "print(x[3:])   # When there is no ending index, it goes until the end of the string"
   ]
  },
  {
   "cell_type": "markdown",
   "metadata": {},
   "source": [
    "You can also use negative indices to work backwards:"
   ]
  },
  {
   "cell_type": "code",
   "execution_count": 21,
   "metadata": {},
   "outputs": [
    {
     "name": "stdout",
     "output_type": "stream",
     "text": [
      "ng\n"
     ]
    }
   ],
   "source": [
    "print(x[-2:])   # This means \"starting from the second-to-last index\""
   ]
  },
  {
   "cell_type": "code",
   "execution_count": 22,
   "metadata": {},
   "outputs": [
    {
     "name": "stdout",
     "output_type": "stream",
     "text": [
      "Stri\n"
     ]
    }
   ],
   "source": [
    "print(x[:-2])   # This means \"up to the second-to-last index (not including it, as usual)\""
   ]
  },
  {
   "cell_type": "code",
   "execution_count": 23,
   "metadata": {},
   "outputs": [
    {
     "name": "stdout",
     "output_type": "stream",
     "text": [
      "9\n"
     ]
    }
   ],
   "source": [
    "# Get the length of a string:\n",
    "x = 'My String'\n",
    "print(len(x))"
   ]
  },
  {
   "cell_type": "markdown",
   "metadata": {},
   "source": [
    "There are many other string methods/functions (str.strip(), str.split(), str.lower(), too many to put here). Check out the Python documentation to learn about them."
   ]
  },
  {
   "cell_type": "markdown",
   "metadata": {},
   "source": [
    "To use variable data with strings, you may see a few different methods:"
   ]
  },
  {
   "cell_type": "code",
   "execution_count": 24,
   "metadata": {},
   "outputs": [
    {
     "name": "stdout",
     "output_type": "stream",
     "text": [
      "The values are 3 and 4.\n"
     ]
    }
   ],
   "source": [
    "# str.format() method:\n",
    "s = 'The values are {x} and {y}.'\n",
    "print(s.format(x=3, y=4))"
   ]
  },
  {
   "cell_type": "code",
   "execution_count": 25,
   "metadata": {},
   "outputs": [
    {
     "name": "stdout",
     "output_type": "stream",
     "text": [
      "The values are 3 and 4.\n"
     ]
    }
   ],
   "source": [
    "# Using %:\n",
    "x = 3\n",
    "y = 4\n",
    "s = 'The values are %s and %s.' % (x, y)\n",
    "print(s)"
   ]
  },
  {
   "cell_type": "code",
   "execution_count": 26,
   "metadata": {},
   "outputs": [
    {
     "name": "stdout",
     "output_type": "stream",
     "text": [
      "The values are 3 and 4.\n"
     ]
    }
   ],
   "source": [
    "# Using f-strings (preferred)\n",
    "x = 3\n",
    "y = 4\n",
    "s = f'The values are {x} and {y}.'\n",
    "print(s)"
   ]
  },
  {
   "cell_type": "markdown",
   "metadata": {},
   "source": [
    "f-strings are the standard (and easiest) way of inserting variable data information into strings. Use them!\n",
    "\n",
    "You are also able to format the output of the inserted values with each of these methods, for example:"
   ]
  },
  {
   "cell_type": "code",
   "execution_count": 27,
   "metadata": {},
   "outputs": [
    {
     "name": "stdout",
     "output_type": "stream",
     "text": [
      "pi is approximately 3.142.\n"
     ]
    }
   ],
   "source": [
    "x = 3.1415926535\n",
    "print(f'pi is approximately {x:.3f}.')"
   ]
  },
  {
   "cell_type": "code",
   "execution_count": 28,
   "metadata": {},
   "outputs": [
    {
     "name": "stdout",
     "output_type": "stream",
     "text": [
      "The radius of the Earth is about 6.38e+06 meters.\n"
     ]
    }
   ],
   "source": [
    "x = 6378137\n",
    "print(f'The radius of the Earth is about {x:.2e} meters.')"
   ]
  },
  {
   "cell_type": "code",
   "execution_count": 29,
   "metadata": {},
   "outputs": [
    {
     "name": "stdout",
     "output_type": "stream",
     "text": [
      "A really big number is 120,000,000,000\n"
     ]
    }
   ],
   "source": [
    "x = 120000000000\n",
    "print(f'A really big number is {x:,}')"
   ]
  },
  {
   "cell_type": "markdown",
   "metadata": {},
   "source": [
    "Refer to Python string formatting documentation for more information.\n",
    "\n",
    "You can also make multi-line strings:"
   ]
  },
  {
   "cell_type": "code",
   "execution_count": 30,
   "metadata": {},
   "outputs": [
    {
     "name": "stdout",
     "output_type": "stream",
     "text": [
      "\n",
      "This is a\n",
      "multi-line string.\n",
      "\n"
     ]
    }
   ],
   "source": [
    "x = '''\n",
    "This is a\n",
    "multi-line string.\n",
    "'''\n",
    "print(x)"
   ]
  },
  {
   "cell_type": "markdown",
   "metadata": {},
   "source": [
    "You can also use multiple lines to make strings using parentheses (don't use commas or else it becomes a tuple):"
   ]
  },
  {
   "cell_type": "code",
   "execution_count": 31,
   "metadata": {},
   "outputs": [
    {
     "name": "stdout",
     "output_type": "stream",
     "text": [
      "This is a single string.\n"
     ]
    }
   ],
   "source": [
    "x = (\n",
    "    'This is a '\n",
    "    'single string.'\n",
    ")\n",
    "print(x)"
   ]
  },
  {
   "cell_type": "markdown",
   "metadata": {},
   "source": [
    "## Lists\n",
    "\n",
    "Lists are a collection of objects or values. In Python, the members of a list may be of different data types (`int`, `str`, etc.). However, in practice, each member usually has the same data type.\n",
    "\n",
    "Lists are \"mutable\", meaning the structure can alter after it is created. This means you can 'append' (add) elements to the list, remove them, or replace them. This is a key property of lists specifically, and this is one way it differs from, for example, tuples (see below), at the cost of a bit more overhead. Thus, usually one mostly uses lists when they wish to append, remove, etc. elements from the list. Otherwise it is more efficient to use something more minimal."
   ]
  },
  {
   "cell_type": "code",
   "execution_count": 32,
   "metadata": {},
   "outputs": [],
   "source": [
    "# Create an empty list:\n",
    "x = []"
   ]
  },
  {
   "cell_type": "code",
   "execution_count": 33,
   "metadata": {},
   "outputs": [],
   "source": [
    "# Create a list with elements in it:\n",
    "x = [0, 1, 2, 3]"
   ]
  },
  {
   "cell_type": "code",
   "execution_count": 34,
   "metadata": {},
   "outputs": [
    {
     "name": "stdout",
     "output_type": "stream",
     "text": [
      "[0, 1, 2]\n"
     ]
    }
   ],
   "source": [
    "# Append to list (adds to end of list):\n",
    "x = [0, 1]\n",
    "x.append(2)\n",
    "print(x)"
   ]
  },
  {
   "cell_type": "code",
   "execution_count": 35,
   "metadata": {},
   "outputs": [
    {
     "name": "stdout",
     "output_type": "stream",
     "text": [
      "[0, 1, 2]\n"
     ]
    }
   ],
   "source": [
    "# Remove from list (removes only first occurrence):\n",
    "x = [0, 1, 1, 2]\n",
    "x.remove(1)\n",
    "print(x)"
   ]
  },
  {
   "cell_type": "code",
   "execution_count": 36,
   "metadata": {},
   "outputs": [
    {
     "name": "stdout",
     "output_type": "stream",
     "text": [
      "2\n"
     ]
    }
   ],
   "source": [
    "# Get elements by index:\n",
    "x = [0, 1, 2, 3, 4]\n",
    "print(x[2])"
   ]
  },
  {
   "cell_type": "code",
   "execution_count": 37,
   "metadata": {},
   "outputs": [
    {
     "name": "stdout",
     "output_type": "stream",
     "text": [
      "[0, 1, 2, 3]\n"
     ]
    }
   ],
   "source": [
    "# Slicing gets a subset of the list (by index).\n",
    "x = [0, 1, 2, 3, 4]\n",
    "print(x[:-1])"
   ]
  },
  {
   "cell_type": "code",
   "execution_count": 38,
   "metadata": {},
   "outputs": [
    {
     "name": "stdout",
     "output_type": "stream",
     "text": [
      "5\n"
     ]
    }
   ],
   "source": [
    "# Get the number of elements in the list:\n",
    "x = [0, 1, 2, 3, 4]\n",
    "print(len(x))"
   ]
  },
  {
   "cell_type": "code",
   "execution_count": 39,
   "metadata": {},
   "outputs": [
    {
     "name": "stdout",
     "output_type": "stream",
     "text": [
      "True\n"
     ]
    }
   ],
   "source": [
    "# List membership (creates a bool value):\n",
    "x = [0, 1, 2, 3, 4]\n",
    "contains_zero = 0 in x\n",
    "print(contains_zero)"
   ]
  },
  {
   "cell_type": "markdown",
   "metadata": {},
   "source": [
    "## Tuples\n",
    "\n",
    "Tuples are like lists. However, they are immutable, and you cannot add/remove elements or move them around, so elements are effectively ordered. They are generally useful for smaller, meaningful structures of data such as (x, y, z) coordinates or anything that can be \"unpacked\" into specific variables (see `*args, **kwargs` section in the Functions notebook)."
   ]
  },
  {
   "cell_type": "code",
   "execution_count": 40,
   "metadata": {},
   "outputs": [],
   "source": [
    "# Create a tuple with multiple elements:\n",
    "x = (0, 1, 2, 3)"
   ]
  },
  {
   "cell_type": "code",
   "execution_count": 41,
   "metadata": {},
   "outputs": [],
   "source": [
    "# A tuple with a single element must have a comma in it to be considered a tuple.\n",
    "x = (0, )"
   ]
  },
  {
   "cell_type": "code",
   "execution_count": 42,
   "metadata": {},
   "outputs": [
    {
     "name": "stdout",
     "output_type": "stream",
     "text": [
      "2\n"
     ]
    }
   ],
   "source": [
    "# Indexing and slicing works the usual way:\n",
    "x = (0, 1, 2, 3)\n",
    "print(x[2])"
   ]
  },
  {
   "cell_type": "code",
   "execution_count": 43,
   "metadata": {},
   "outputs": [
    {
     "name": "stdout",
     "output_type": "stream",
     "text": [
      "x=0, y=1, z=2\n"
     ]
    }
   ],
   "source": [
    "# Unpack data into different variables (this can be done with lists too)\n",
    "coordinate = (0, 1, 2)\n",
    "x, y, z = coordinate\n",
    "print(f'x={x}, y={y}, z={z}')"
   ]
  },
  {
   "cell_type": "code",
   "execution_count": 44,
   "metadata": {},
   "outputs": [
    {
     "name": "stdout",
     "output_type": "stream",
     "text": [
      "2\n"
     ]
    }
   ],
   "source": [
    "# You can still check the number of elements\n",
    "x = (0, 1)\n",
    "print(len(x))"
   ]
  },
  {
   "cell_type": "code",
   "execution_count": 45,
   "metadata": {},
   "outputs": [
    {
     "name": "stdout",
     "output_type": "stream",
     "text": [
      "False\n"
     ]
    }
   ],
   "source": [
    "# You can still check for membership\n",
    "x = (1, 2)\n",
    "print(0 in x)"
   ]
  },
  {
   "cell_type": "markdown",
   "metadata": {},
   "source": [
    "## Sets\n",
    "\n",
    "Sets are another collection of elements, but they are designed to similarly to mathematical sets and allow for a bit more efficiency in element comparison. They also force all of their elements to be unique, meaning it gets rid of duplicate elements (which could be useful). Many of the set operations in set theory are also sometimes useful."
   ]
  },
  {
   "cell_type": "code",
   "execution_count": 46,
   "metadata": {},
   "outputs": [
    {
     "name": "stdout",
     "output_type": "stream",
     "text": [
      "{0, 1, 2, 3, 4}\n"
     ]
    }
   ],
   "source": [
    "# Create set with elements (note that it gets rid of duplicates):\n",
    "x = {0, 0, 1, 1, 2, 2, 3, 3, 4, 4}\n",
    "print(x)"
   ]
  },
  {
   "cell_type": "code",
   "execution_count": 47,
   "metadata": {},
   "outputs": [],
   "source": [
    "# Create an empty set (Using just {} gives an empty dictionary instead):\n",
    "x = set()"
   ]
  },
  {
   "cell_type": "code",
   "execution_count": 48,
   "metadata": {},
   "outputs": [
    {
     "name": "stdout",
     "output_type": "stream",
     "text": [
      "5\n"
     ]
    }
   ],
   "source": [
    "# Cardinality\n",
    "x = {0, 1, 2, 3, 4}\n",
    "print(len(x))"
   ]
  },
  {
   "cell_type": "code",
   "execution_count": 49,
   "metadata": {},
   "outputs": [
    {
     "name": "stdout",
     "output_type": "stream",
     "text": [
      "{0, 1, 2, 3, 4, 5, 6}\n"
     ]
    }
   ],
   "source": [
    "# Union\n",
    "x = {0, 1, 2, 3, 4}\n",
    "y = {2, 3, 4, 5, 6}\n",
    "print(x | y)"
   ]
  },
  {
   "cell_type": "code",
   "execution_count": 50,
   "metadata": {},
   "outputs": [
    {
     "name": "stdout",
     "output_type": "stream",
     "text": [
      "{2, 3, 4}\n"
     ]
    }
   ],
   "source": [
    "# Intersection\n",
    "x = {0, 1, 2, 3, 4}\n",
    "y = {2, 3, 4, 5, 6}\n",
    "print(x & y)"
   ]
  },
  {
   "cell_type": "code",
   "execution_count": 51,
   "metadata": {},
   "outputs": [
    {
     "name": "stdout",
     "output_type": "stream",
     "text": [
      "{0, 1}\n"
     ]
    }
   ],
   "source": [
    "# Elements of x that are not in y\n",
    "x = {0, 1, 2, 3, 4}\n",
    "y = {2, 3, 4, 5, 6}\n",
    "print(x - y)"
   ]
  },
  {
   "cell_type": "code",
   "execution_count": 52,
   "metadata": {},
   "outputs": [
    {
     "name": "stdout",
     "output_type": "stream",
     "text": [
      "{0, 1, 5, 6}\n"
     ]
    }
   ],
   "source": [
    "# elements in either but not both (union - intersection)\n",
    "x = {0, 1, 2, 3, 4}\n",
    "y = {2, 3, 4, 5, 6}\n",
    "print(x ^ y)"
   ]
  },
  {
   "cell_type": "markdown",
   "metadata": {},
   "source": [
    "## Dictionaries\n",
    "\n",
    "Dictionaries are extremely common and useful in Python. They are the basis of named/structured NumPy arrays and DataFrames in Pandas, but they can be much simpler. They act essentially as a hash table with key-value pairs, where each value can be retrieved/identified with its corresponding unique key. The value can be whatever you like (even lists or other dictionaries, which is where you start to make DataFrames, etc.). The key is usually a string, but it may also be immutable, hashable values such as integers or floats (not really recommended to use floats).\n",
    "\n",
    "Dictionaries generally have no particular order to different key-value pairs in them, although the order used to populate them is conserved.\n",
    "\n",
    "Dictionaries are also very useful because they allow for O(1) look-up time, meaning it does not have to look through the entire collection to find something, but rather just use the key for the value you want."
   ]
  },
  {
   "cell_type": "code",
   "execution_count": 53,
   "metadata": {},
   "outputs": [],
   "source": [
    "# Create empty dictionary:\n",
    "x = {}"
   ]
  },
  {
   "cell_type": "code",
   "execution_count": 54,
   "metadata": {},
   "outputs": [],
   "source": [
    "# Create dictionary with elements:\n",
    "x = {'a': 1, 'b': 2, 'c': 3}"
   ]
  },
  {
   "cell_type": "code",
   "execution_count": 55,
   "metadata": {},
   "outputs": [
    {
     "name": "stdout",
     "output_type": "stream",
     "text": [
      "1\n"
     ]
    }
   ],
   "source": [
    "# Get values associated with keys:\n",
    "x = {'a': 1, 'b': 2, 'c': 3}\n",
    "print(x['a'])"
   ]
  },
  {
   "cell_type": "code",
   "execution_count": 56,
   "metadata": {},
   "outputs": [
    {
     "name": "stdout",
     "output_type": "stream",
     "text": [
      "True\n"
     ]
    }
   ],
   "source": [
    "# Membership looks at the keys, not the values\n",
    "x = {'a': 1, 'b': 2, 'c': 3}\n",
    "print('b' in x)"
   ]
  },
  {
   "cell_type": "code",
   "execution_count": 57,
   "metadata": {},
   "outputs": [
    {
     "name": "stdout",
     "output_type": "stream",
     "text": [
      "{'a': 5, 'b': 2, 'c': 3}\n"
     ]
    }
   ],
   "source": [
    "# Changing values at a key:\n",
    "x = {'a': 1, 'b': 2, 'c': 3}\n",
    "x['a'] = 5\n",
    "print(x)"
   ]
  },
  {
   "cell_type": "code",
   "execution_count": 58,
   "metadata": {},
   "outputs": [
    {
     "name": "stdout",
     "output_type": "stream",
     "text": [
      "{'a': 1, 'b': 2, 'c': 3, 'd': '4'}\n"
     ]
    }
   ],
   "source": [
    "# Add a new key-value pair\n",
    "x = {'a': 1, 'b': 2, 'c': 3}\n",
    "x['d'] = '4'\n",
    "print(x)"
   ]
  },
  {
   "cell_type": "code",
   "execution_count": 59,
   "metadata": {},
   "outputs": [
    {
     "name": "stdout",
     "output_type": "stream",
     "text": [
      "{'b': 2, 'c': 3}\n"
     ]
    }
   ],
   "source": [
    "# Remove key/value pair (pop() does more than just this, though; look at documentation for more information):\n",
    "x = {'a': 1, 'b': 2, 'c': 3}\n",
    "x.pop('a', None)\n",
    "print(x)"
   ]
  },
  {
   "cell_type": "code",
   "execution_count": 60,
   "metadata": {},
   "outputs": [
    {
     "name": "stdout",
     "output_type": "stream",
     "text": [
      "dict_keys(['a', 'b', 'c'])\n"
     ]
    }
   ],
   "source": [
    "# Get all keys in dictionary\n",
    "x = {'a': 1, 'b': 2, 'c': 3}\n",
    "print(x.keys())"
   ]
  },
  {
   "cell_type": "markdown",
   "metadata": {},
   "source": [
    "## Casting and Types\n",
    "\n",
    "Casting is useful/necessary in other languages because you usually explicitly allocate data and store variables based on a data type. In Python, you obviously don't need to do this, but sometimes it is still useful or necessary to convert data types. This is called casting."
   ]
  },
  {
   "cell_type": "code",
   "execution_count": 61,
   "metadata": {},
   "outputs": [
    {
     "name": "stdout",
     "output_type": "stream",
     "text": [
      "<class 'int'>\n"
     ]
    }
   ],
   "source": [
    "# Look at the type of a variable:\n",
    "x = 3\n",
    "print(type(x))"
   ]
  },
  {
   "cell_type": "code",
   "execution_count": 62,
   "metadata": {},
   "outputs": [
    {
     "name": "stdout",
     "output_type": "stream",
     "text": [
      "3.0\n",
      "<class 'float'>\n"
     ]
    }
   ],
   "source": [
    "# Cast from integer to float:\n",
    "x = 3\n",
    "x = float(x)\n",
    "print(x)\n",
    "print(type(x))"
   ]
  },
  {
   "cell_type": "code",
   "execution_count": 63,
   "metadata": {},
   "outputs": [
    {
     "name": "stdout",
     "output_type": "stream",
     "text": [
      "3.0\n",
      "<class 'float'>\n"
     ]
    }
   ],
   "source": [
    "# Putting a decimal after a number tells Python to treat it as a float. It is generally good practice to do this in the code whenever you know you are working with a non-integer value.\n",
    "x = 3.\n",
    "print(x)\n",
    "print(type(x))"
   ]
  },
  {
   "cell_type": "code",
   "execution_count": 64,
   "metadata": {},
   "outputs": [
    {
     "name": "stdout",
     "output_type": "stream",
     "text": [
      "34\n",
      "<class 'str'>\n"
     ]
    }
   ],
   "source": [
    "# Convert to string\n",
    "x = 3\n",
    "x = str(x)\n",
    "y = 4\n",
    "y = str(y)\n",
    "print(x + y)\n",
    "print(type(x + y))"
   ]
  },
  {
   "cell_type": "code",
   "execution_count": 65,
   "metadata": {},
   "outputs": [
    {
     "name": "stdout",
     "output_type": "stream",
     "text": [
      "(0, 1)\n",
      "<class 'tuple'>\n"
     ]
    }
   ],
   "source": [
    "# Cast list to tuple (making it also immutable):\n",
    "x = [0, 1]\n",
    "x = tuple(x)\n",
    "print(x)\n",
    "print(type(x))"
   ]
  },
  {
   "cell_type": "markdown",
   "metadata": {},
   "source": [
    "There are many more ways of casting (`list()`, `dict()`, etc.).\n",
    "\n",
    "You can also check if something is a specific type using `isinstance()`:"
   ]
  },
  {
   "cell_type": "code",
   "execution_count": 66,
   "metadata": {},
   "outputs": [
    {
     "name": "stdout",
     "output_type": "stream",
     "text": [
      "False\n"
     ]
    }
   ],
   "source": [
    "# Reminder: 3 is treated as an int, but 3. is treated as a float\n",
    "is_float = isinstance(3, float)\n",
    "print(is_float)"
   ]
  },
  {
   "cell_type": "code",
   "execution_count": 67,
   "metadata": {},
   "outputs": [
    {
     "name": "stdout",
     "output_type": "stream",
     "text": [
      "True\n"
     ]
    }
   ],
   "source": [
    "# Check multiple types\n",
    "is_number = isinstance(3, (int, float))\n",
    "print(is_number)"
   ]
  }
 ],
 "metadata": {
  "kernelspec": {
   "display_name": "Python 3 (ipykernel)",
   "language": "python",
   "name": "python3"
  },
  "language_info": {
   "codemirror_mode": {
    "name": "ipython",
    "version": 3
   },
   "file_extension": ".py",
   "mimetype": "text/x-python",
   "name": "python",
   "nbconvert_exporter": "python",
   "pygments_lexer": "ipython3",
   "version": "3.10.7"
  }
 },
 "nbformat": 4,
 "nbformat_minor": 4
}

{
 "cells": [
  {
   "cell_type": "markdown",
   "metadata": {},
   "source": [
    "# Functions in Python"
   ]
  },
  {
   "cell_type": "markdown",
   "metadata": {},
   "source": [
    "## Functions\n",
    "\n",
    "Functions are objects that are run when called. A function can perform a defined set of operations with just a single call/line of code. They can have arguments that they depend on as well as a return value, both of which are covered in later sections."
   ]
  },
  {
   "cell_type": "markdown",
   "metadata": {},
   "source": [
    "You must define a function before you call it using the `def` keyword:"
   ]
  },
  {
   "cell_type": "code",
   "execution_count": 50,
   "metadata": {},
   "outputs": [],
   "source": [
    "def function_name():\n",
    "    # Do something\n",
    "    pass"
   ]
  },
  {
   "cell_type": "markdown",
   "metadata": {},
   "source": [
    "You call a function simply after the definition using parentheses:"
   ]
  },
  {
   "cell_type": "code",
   "execution_count": 51,
   "metadata": {},
   "outputs": [
    {
     "name": "stdout",
     "output_type": "stream",
     "text": [
      "This function has been called\n"
     ]
    }
   ],
   "source": [
    "def my_function():\n",
    "    print('This function has been called')\n",
    "\n",
    "my_function()"
   ]
  },
  {
   "cell_type": "markdown",
   "metadata": {},
   "source": [
    "## Arguments\n",
    "\n",
    "You may pass arguments to functions. The processes that occur in the function will generally be dependent on what you pass the function. The argument is passed while calling the function:"
   ]
  },
  {
   "cell_type": "code",
   "execution_count": 52,
   "metadata": {},
   "outputs": [],
   "source": [
    "def f(x):\n",
    "    print(f'Passed argument: {x}')\n",
    "\n",
    "f(2)"
   ]
  },
  {
   "cell_type": "markdown",
   "metadata": {},
   "source": [
    "You can have as many arguments as you would like. You can also include logic and set new variables in the function definition. Any variable values set in functions only apply inside the function as they are removed from memory:"
   ]
  },
  {
   "cell_type": "code",
   "execution_count": 3,
   "metadata": {},
   "outputs": [
    {
     "name": "stdout",
     "output_type": "stream",
     "text": [
      "Inside unit sphere\n"
     ]
    }
   ],
   "source": [
    "def in_unit_sphere(x, y, z):\n",
    "    r = x**2 + y**2 + z**2\n",
    "    if r <= 1:\n",
    "        print(f'Inside unit sphere')\n",
    "    else:\n",
    "        print(f'Outside unit sphere')\n",
    "\n",
    "in_unit_sphere(0.5, 0.5, 0.5)\n",
    "\n",
    "# `r` variable from inside the function cannot be accessed at this point"
   ]
  },
  {
   "cell_type": "markdown",
   "metadata": {},
   "source": [
    "Arguments can have default values, which are defined in the function definition. This allows certain parameters to be optional to set during the function call. However, the non-optional argument definitions must always go before optional ones."
   ]
  },
  {
   "cell_type": "code",
   "execution_count": 55,
   "metadata": {},
   "outputs": [],
   "source": [
    "def f(x, a=1, b=1):\n",
    "    print(f'x = {x}, a = {a}, b = {b}')"
   ]
  },
  {
   "cell_type": "code",
   "execution_count": 56,
   "metadata": {},
   "outputs": [
    {
     "name": "stdout",
     "output_type": "stream",
     "text": [
      "x = 2, a = 1, b = 1\n"
     ]
    }
   ],
   "source": [
    "f(2)"
   ]
  },
  {
   "cell_type": "code",
   "execution_count": 57,
   "metadata": {},
   "outputs": [
    {
     "name": "stdout",
     "output_type": "stream",
     "text": [
      "x = 2, a = 3, b = 1\n"
     ]
    }
   ],
   "source": [
    "f(2, a=3)"
   ]
  },
  {
   "cell_type": "code",
   "execution_count": 58,
   "metadata": {},
   "outputs": [
    {
     "name": "stdout",
     "output_type": "stream",
     "text": [
      "x = 2, a = 9, b = 4\n"
     ]
    }
   ],
   "source": [
    "f(x=2, b=4, a=9)"
   ]
  },
  {
   "cell_type": "markdown",
   "metadata": {},
   "source": [
    "You can also alter arguments that are passed to a function just like normal variables (but are reset at the beginning of each function call):"
   ]
  },
  {
   "cell_type": "code",
   "execution_count": 59,
   "metadata": {},
   "outputs": [
    {
     "name": "stdout",
     "output_type": "stream",
     "text": [
      "1\n",
      "2\n"
     ]
    }
   ],
   "source": [
    "def f(x):\n",
    "    print(x)\n",
    "    x += 1\n",
    "    print(x)\n",
    "\n",
    "f(1)"
   ]
  },
  {
   "cell_type": "markdown",
   "metadata": {},
   "source": [
    "You can pass a list/tuple of values to a function, where each value corresponds to a single parameter, using `*` before it as follows:"
   ]
  },
  {
   "cell_type": "code",
   "execution_count": null,
   "metadata": {},
   "outputs": [],
   "source": [
    "def f(x, y, z, w):\n",
    "    print(f'x = {x}, y = {y}, z = {z}, w = {w}')\n",
    "    \n",
    "coordinate = (1, 2, 3)\n",
    "f(*coordinate, 10)"
   ]
  },
  {
   "cell_type": "markdown",
   "metadata": {},
   "source": [
    "This happens because `*coordinate` unpacks the elements of the `coordinate` tuple, placing them at the corresponding argument positions."
   ]
  },
  {
   "cell_type": "markdown",
   "metadata": {},
   "source": [
    "## Returning\n",
    "\n",
    "Functions always have return values, whether specified or not. When specified, the `return` operator is used. You can store the function output (return value) as you call the function, and this output depends on how you use the `return` operator in the function."
   ]
  },
  {
   "cell_type": "markdown",
   "metadata": {},
   "source": [
    "The default return value is `None`. This occurs at the end of the function if `return` is not called, or whenever return is called in the function with no argument."
   ]
  },
  {
   "cell_type": "code",
   "execution_count": 61,
   "metadata": {},
   "outputs": [
    {
     "name": "stdout",
     "output_type": "stream",
     "text": [
      "`f` is called\n",
      "None <class 'NoneType'>\n"
     ]
    }
   ],
   "source": [
    "def f():\n",
    "    print('`f` is called')\n",
    "    return   # If this is at the end, it's the same as if it were omitted\n",
    "\n",
    "x = f()\n",
    "print(x)"
   ]
  },
  {
   "cell_type": "markdown",
   "metadata": {},
   "source": [
    "You can place `return` wherever you would like to suit what you want the function to do:"
   ]
  },
  {
   "cell_type": "code",
   "execution_count": 62,
   "metadata": {},
   "outputs": [
    {
     "name": "stdout",
     "output_type": "stream",
     "text": [
      "2 is above 1\n",
      "0 is less than/equal to 1\n"
     ]
    }
   ],
   "source": [
    "def check(x):\n",
    "    if x > 1:\n",
    "        print(f'{x} is above 1')\n",
    "        return\n",
    "    print(f'{x} is less than/equal to 1')\n",
    "\n",
    "x = check(2)   # x = None\n",
    "y = check(0)   # y = None"
   ]
  },
  {
   "cell_type": "markdown",
   "metadata": {},
   "source": [
    "Instead of `None`, you can return any other value you want:"
   ]
  },
  {
   "cell_type": "code",
   "execution_count": 1,
   "metadata": {},
   "outputs": [
    {
     "name": "stdout",
     "output_type": "stream",
     "text": [
      "4\n"
     ]
    }
   ],
   "source": [
    "def f(x):\n",
    "    return x**2\n",
    "\n",
    "y = f(2)\n",
    "print(y)"
   ]
  },
  {
   "cell_type": "code",
   "execution_count": 2,
   "metadata": {},
   "outputs": [
    {
     "name": "stdout",
     "output_type": "stream",
     "text": [
      "[2, 2, 2]\n"
     ]
    }
   ],
   "source": [
    "def f(x, n):\n",
    "    nums = []\n",
    "    for i in range(n):\n",
    "        nums.append(x)\n",
    "    return nums\n",
    "\n",
    "nums = f(2, 3)\n",
    "print(nums)"
   ]
  },
  {
   "cell_type": "markdown",
   "metadata": {},
   "source": [
    "You can return multiple values using a tuple:"
   ]
  },
  {
   "cell_type": "code",
   "execution_count": 3,
   "metadata": {},
   "outputs": [
    {
     "name": "stdout",
     "output_type": "stream",
     "text": [
      "x=2, y=4\n"
     ]
    }
   ],
   "source": [
    "def double(x, y):\n",
    "    x_new = 2 * x\n",
    "    y_new = 2 * y\n",
    "    return x_new, y_new\n",
    "\n",
    "x, y = double(1, 2)\n",
    "print(f'x={x}, y={y}')"
   ]
  },
  {
   "cell_type": "markdown",
   "metadata": {},
   "source": [
    "## `*args` and `**kwargs`\n",
    "\n",
    "Keyword arguments are arguments that are passed by specifying the name of the argument and assigning it a value. Positional arguments are those that are passed without specifying the name and relying on the argument order/position defined with the function. The order in which you pass keyword arguments does not matter, but it of course would matter for positional arguments.\n",
    "\n",
    "Take these examples, all of which acheive the same result:"
   ]
  },
  {
   "cell_type": "code",
   "execution_count": 8,
   "metadata": {},
   "outputs": [
    {
     "name": "stdout",
     "output_type": "stream",
     "text": [
      "3.0\n"
     ]
    }
   ],
   "source": [
    "def f(x, m=0., b=0.):\n",
    "    return m * x + b\n",
    "\n",
    "x = 1.\n",
    "y = f(x, 1., 2.)         # Using positional arguments\n",
    "y = f(x=x, m=1., b=2.)   # Using keyword arguments\n",
    "y = f(x, 1., b=2.)       # Mixing positional and keyword arguments\n",
    "y = f(x, b=2., m=1.)     # Reordering keyword arguments\n",
    "print(y)"
   ]
  },
  {
   "cell_type": "markdown",
   "metadata": {},
   "source": [
    "`*args` and `**kwargs` are used to take in any number of positional arguments and keyword arguments, respectively. They are often used to call other functions within the outer function."
   ]
  },
  {
   "cell_type": "markdown",
   "metadata": {},
   "source": [
    "#### Using `*args` at the end of the parameter list for general arguments:"
   ]
  },
  {
   "cell_type": "code",
   "execution_count": 10,
   "metadata": {},
   "outputs": [
    {
     "name": "stdout",
     "output_type": "stream",
     "text": [
      "2; other args: (3, 4, 5)\n"
     ]
    }
   ],
   "source": [
    "def f(x, *args):\n",
    "    print(f'{x}; other args: {args}')\n",
    "\n",
    "f(2, 3, 4, 5)"
   ]
  },
  {
   "cell_type": "markdown",
   "metadata": {},
   "source": [
    "Notice that args is a tuple within the function, and you can unpack it like normal within the function using `*args`.\n",
    "\n",
    "Keyword arguments are those that are passed to a specific argument. You use `**kwargs` in the same way as `*args`:"
   ]
  },
  {
   "cell_type": "code",
   "execution_count": 11,
   "metadata": {},
   "outputs": [
    {
     "name": "stdout",
     "output_type": "stream",
     "text": [
      "2; other kwargs: {'a': 3, 'b': 4, 'c': 5}\n"
     ]
    }
   ],
   "source": [
    "def f(x, **kwargs):\n",
    "    print(f'{x}; other kwargs: {kwargs}')\n",
    "\n",
    "f(2, a=3, b=4, c=5)"
   ]
  },
  {
   "cell_type": "markdown",
   "metadata": {},
   "source": [
    "Notice now that `kwargs` is a dictionary in the function. The `**` is used to pack/unpack dictionaries and key-value pairs just like `*` is used to pack/unpack tuples.\n",
    "\n",
    "You can retrieve individual keyword arguments in the function by treating them like dictionary key-value pairs:"
   ]
  },
  {
   "cell_type": "code",
   "execution_count": 12,
   "metadata": {},
   "outputs": [
    {
     "name": "stdout",
     "output_type": "stream",
     "text": [
      "a = 3\n"
     ]
    }
   ],
   "source": [
    "def f(x, **kwargs):\n",
    "    a = kwargs['a']\n",
    "    print(f'a = {a}')\n",
    "\n",
    "f(2, a=3, b=4, c=5)"
   ]
  },
  {
   "cell_type": "markdown",
   "metadata": {},
   "source": [
    "By using both `*args` and `**kwargs`, the function is fully generalized to accept any other arguments passed:"
   ]
  },
  {
   "cell_type": "code",
   "execution_count": 68,
   "metadata": {},
   "outputs": [
    {
     "name": "stdout",
     "output_type": "stream",
     "text": [
      "2\n",
      "(3, 4)\n",
      "{'a': 5, 'b': 6}\n"
     ]
    }
   ],
   "source": [
    "def f(x, *args, **kwargs):\n",
    "    print(x)\n",
    "    print(args)\n",
    "    print(kwargs)\n",
    "\n",
    "f(2, 3, 4, a=5, b=6)"
   ]
  },
  {
   "cell_type": "markdown",
   "metadata": {},
   "source": [
    "Positional arguments must still be given before keyword arguments.\n",
    "\n",
    "Another use of the `*` and `**` unpacking behavior for tuples and dictionaries, respectively, is that you can very cleanly pass several arguments to functions at once."
   ]
  },
  {
   "cell_type": "code",
   "execution_count": null,
   "metadata": {},
   "outputs": [],
   "source": [
    "def get_norm(x, y, z):\n",
    "    return x**2 + y**2 + z**2\n",
    "\n",
    "coordinate = 2, 3, 1\n",
    "norm = get_norm(*coordinate)\n",
    "print(norm)"
   ]
  },
  {
   "cell_type": "code",
   "execution_count": null,
   "metadata": {},
   "outputs": [],
   "source": [
    "def linear_model(x, m=0., b=0.):\n",
    "    return m * x + b\n",
    "\n",
    "model_params = {\n",
    "    'm': 1.,\n",
    "    'b': 2.,\n",
    "}\n",
    "x = 1.\n",
    "y = linear_model(x, **model_params)\n",
    "print(y)"
   ]
  },
  {
   "cell_type": "markdown",
   "metadata": {},
   "source": [
    "This previous structure is something I use very frequently for things like models which take in a lot of arguments such as model parameters, output filenames, etc. It is useful because, for example, you can use those same `model_params` with a different call of the model function, without needing to rewrite the keyword arguments:"
   ]
  },
  {
   "cell_type": "code",
   "execution_count": null,
   "metadata": {},
   "outputs": [],
   "source": [
    "def linear_model(x, m=0., b=0.):\n",
    "    return m * x + b\n",
    "\n",
    "model_params = {\n",
    "    'm': 1.,\n",
    "    'b': 2.,\n",
    "}\n",
    "y1 = linear_model(1., **model_params)\n",
    "y2 = linear_model(4., **model_params)"
   ]
  },
  {
   "cell_type": "markdown",
   "metadata": {},
   "source": [
    "## Generators\n",
    "\n",
    "You can create generators in a similar way to defining functions. The main difference is that instead of `return`-ing a value, you `yield` a value instead.\n",
    "\n",
    "A generator is created as follows:"
   ]
  },
  {
   "cell_type": "code",
   "execution_count": 69,
   "metadata": {},
   "outputs": [
    {
     "name": "stdout",
     "output_type": "stream",
     "text": [
      "<generator object my_range at 0x0120BFB0> <class 'generator'>\n",
      "0\n",
      "1\n",
      "2\n",
      "3\n",
      "4\n"
     ]
    }
   ],
   "source": [
    "def my_range(n):\n",
    "    i = 0\n",
    "    while i < n:\n",
    "        yield i\n",
    "        i += 1\n",
    "\n",
    "x = my_range(5)\n",
    "print(x, type(x))\n",
    "for i in x:\n",
    "    print(i)"
   ]
  },
  {
   "cell_type": "markdown",
   "metadata": {},
   "source": [
    "Remember, when you call the function you are calling a generator object. You must iterate over it to make use of it. This method is more explicit and offers more (readable) opportunity to include logic than when using list comprehension (see Iteration notebook)."
   ]
  },
  {
   "cell_type": "code",
   "execution_count": 70,
   "metadata": {},
   "outputs": [
    {
     "name": "stdout",
     "output_type": "stream",
     "text": [
      "[0, 1, 4, 9, 16] [0, 1, 4, 9, 16]\n"
     ]
    }
   ],
   "source": [
    "my_list = [0, 1, 2, 3, 4]\n",
    "\n",
    "def my_gen(l):\n",
    "    for i in l:\n",
    "        yield i**2\n",
    "\n",
    "x = my_gen(my_list)\n",
    "y = (i**2 for i in my_list)\n",
    "\n",
    "print(list(x), list(y))"
   ]
  },
  {
   "cell_type": "markdown",
   "metadata": {},
   "source": [
    "Here `x` and `y` provide the same output."
   ]
  }
 ],
 "metadata": {
  "kernelspec": {
   "display_name": "Python 3 (ipykernel)",
   "language": "python",
   "name": "python3"
  },
  "language_info": {
   "codemirror_mode": {
    "name": "ipython",
    "version": 3
   },
   "file_extension": ".py",
   "mimetype": "text/x-python",
   "name": "python",
   "nbconvert_exporter": "python",
   "pygments_lexer": "ipython3",
   "version": "3.10.7"
  }
 },
 "nbformat": 4,
 "nbformat_minor": 4
}

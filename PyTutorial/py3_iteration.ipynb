{
 "cells": [
  {
   "cell_type": "markdown",
   "metadata": {},
   "source": [
    "# Iteration in Python"
   ]
  },
  {
   "cell_type": "markdown",
   "metadata": {},
   "source": [
    "## Iterables\n",
    "\n",
    "### Iteration is one of the most common actions in Python. It allows you to generate or work with lists, dictionaries, etc. without explicity writing out commands that relate to each element. Any object that you can iterate over (like lists, tuples, dictionaries, etc.) are called **iterables**."
   ]
  },
  {
   "cell_type": "markdown",
   "metadata": {},
   "source": [
    "## For-Loops\n",
    "\n",
    "### For-loops are a common iteration method in most languages. As stated above, they simplify the ability to perform any action on or using every element of some iterable."
   ]
  },
  {
   "cell_type": "markdown",
   "metadata": {},
   "source": [
    "#### In most languages, it is common to iterate over indices of elements in an iterable. You do this in Python with a for-loop and `range()`:"
   ]
  },
  {
   "cell_type": "code",
   "execution_count": 65,
   "metadata": {},
   "outputs": [
    {
     "name": "stdout",
     "output_type": "stream",
     "text": [
      "Index: 0, Value: a\n",
      "Index: 1, Value: b\n",
      "Index: 2, Value: c\n"
     ]
    }
   ],
   "source": [
    "x = ['a', 'b', 'c']\n",
    "for i in range(3):\n",
    "    print(f'Index: {i}, Value: {x[i]}')"
   ]
  },
  {
   "cell_type": "markdown",
   "metadata": {},
   "source": [
    "#### You can of course use `len()` to generalize this to iterate over the entire length of any list:"
   ]
  },
  {
   "cell_type": "code",
   "execution_count": 66,
   "metadata": {},
   "outputs": [
    {
     "name": "stdout",
     "output_type": "stream",
     "text": [
      "Index: 0, Value: a\n",
      "Index: 1, Value: b\n",
      "Index: 2, Value: c\n",
      "Index: 3, Value: d\n"
     ]
    }
   ],
   "source": [
    "x = ['a', 'b', 'c', 'd']\n",
    "for i in range(len(x)):\n",
    "    print(f'Index: {i}, Value: {x[i]}')"
   ]
  },
  {
   "cell_type": "markdown",
   "metadata": {},
   "source": [
    "#### `range()` is actually an interable object (specifically a generator in Python 3+ - see later section about generators). It has a few parameters you can pass, such as a starting point, end point, and step size. If only one value is passed, then it specifies only the end value, meaning it iterates from 0 up to **and not including** the end value."
   ]
  },
  {
   "cell_type": "markdown",
   "metadata": {},
   "source": [
    "#### It is actually more \"Pythonic\" to iterate over the elements of the iterable themselves, rather than the indices:"
   ]
  },
  {
   "cell_type": "code",
   "execution_count": 67,
   "metadata": {},
   "outputs": [
    {
     "name": "stdout",
     "output_type": "stream",
     "text": [
      "a\n",
      "b\n",
      "c\n"
     ]
    }
   ],
   "source": [
    "x = ['a', 'b', 'c']\n",
    "for element in x:\n",
    "    print(element)"
   ]
  },
  {
   "cell_type": "code",
   "execution_count": 68,
   "metadata": {},
   "outputs": [
    {
     "name": "stdout",
     "output_type": "stream",
     "text": [
      "3\n",
      "4\n",
      "5\n",
      "6\n",
      "7\n"
     ]
    }
   ],
   "source": [
    "x = range(5)\n",
    "for num in x:\n",
    "    print(num + 3)"
   ]
  },
  {
   "cell_type": "markdown",
   "metadata": {},
   "source": [
    "## While-Loops\n",
    "\n",
    "### `while`-loops allow you to loop as long as some condition is met. The argument after `while` is some bool."
   ]
  },
  {
   "cell_type": "code",
   "execution_count": 69,
   "metadata": {},
   "outputs": [
    {
     "name": "stdout",
     "output_type": "stream",
     "text": [
      "0\n",
      "1\n",
      "2\n",
      "3\n",
      "4\n"
     ]
    }
   ],
   "source": [
    "count = 0\n",
    "while count < 5:\n",
    "    print(count)\n",
    "    count += 1"
   ]
  },
  {
   "cell_type": "markdown",
   "metadata": {},
   "source": [
    "#### `while`-loops are often useful with control statements (see next section)."
   ]
  },
  {
   "cell_type": "markdown",
   "metadata": {},
   "source": [
    "## Control Statements\n",
    "\n",
    "### These control operations allow you to have more control over any iteration. These control statements are the `break`, `continue`, and `pass` statements."
   ]
  },
  {
   "cell_type": "markdown",
   "metadata": {},
   "source": [
    "#### `break` allows you to completely stop iterating over the first loop up (meaning you don't leave every loop, just the one directly surrounding the `break`):"
   ]
  },
  {
   "cell_type": "code",
   "execution_count": 70,
   "metadata": {},
   "outputs": [
    {
     "name": "stdout",
     "output_type": "stream",
     "text": [
      "0\n",
      "1\n",
      "2\n",
      "3\n"
     ]
    }
   ],
   "source": [
    "for i in range(5):\n",
    "    print(i)\n",
    "    if i == 3:\n",
    "        break"
   ]
  },
  {
   "cell_type": "code",
   "execution_count": 71,
   "metadata": {},
   "outputs": [
    {
     "name": "stdout",
     "output_type": "stream",
     "text": [
      "0\n",
      "1\n",
      "2\n",
      "3\n",
      "4\n"
     ]
    }
   ],
   "source": [
    "count = 0\n",
    "while True:\n",
    "    print(count)\n",
    "    count += 1\n",
    "    if count > 4:\n",
    "        break   # be careful - if you don't have some control statement this process could run indefinitely"
   ]
  },
  {
   "cell_type": "markdown",
   "metadata": {},
   "source": [
    "#### `continue` allows you to skip to the next iteration:"
   ]
  },
  {
   "cell_type": "code",
   "execution_count": 72,
   "metadata": {},
   "outputs": [
    {
     "name": "stdout",
     "output_type": "stream",
     "text": [
      "0\n",
      "2\n",
      "4\n"
     ]
    }
   ],
   "source": [
    "x = [0, 1, 2, 3, 4, 5]\n",
    "for i in range(len(x)):\n",
    "    if i % 2:   # 0 means False, 1 means True\n",
    "        continue\n",
    "    print(i)"
   ]
  },
  {
   "cell_type": "markdown",
   "metadata": {},
   "source": [
    "#### `pass` is a null operation. It means \"don't do anything\", and you can use it even outside of loops."
   ]
  },
  {
   "cell_type": "code",
   "execution_count": 73,
   "metadata": {},
   "outputs": [
    {
     "name": "stdout",
     "output_type": "stream",
     "text": [
      "1\n",
      "2\n",
      "4\n",
      "5\n"
     ]
    }
   ],
   "source": [
    "for i in range(7):\n",
    "    if i % 3 == 0:\n",
    "        pass\n",
    "    else:\n",
    "        print(i)"
   ]
  },
  {
   "cell_type": "markdown",
   "metadata": {},
   "source": [
    "#### Usually you can make code much more elegant by using control statements. They can help minimize a large number of nested for-loops, which could make code more readable instead of having a massive amount of indentation, etc. Indentation can pile up very quickly. These two processes do the same thing:"
   ]
  },
  {
   "cell_type": "code",
   "execution_count": 74,
   "metadata": {},
   "outputs": [],
   "source": [
    "x = {'a': 0,\n",
    "     'b': None,\n",
    "     'c': 2,\n",
    "     'd': 3,\n",
    "     'e': 4}"
   ]
  },
  {
   "cell_type": "code",
   "execution_count": 75,
   "metadata": {},
   "outputs": [
    {
     "name": "stdout",
     "output_type": "stream",
     "text": [
      "a has even value\n",
      "c has even value\n",
      "d has odd value\n",
      "e has even value\n"
     ]
    }
   ],
   "source": [
    "for key in x:\n",
    "    val = x[key]\n",
    "    if val is not None:\n",
    "        if not val % 2:\n",
    "            print(f'{key} has even value')\n",
    "        else:\n",
    "            print(f'{key} has odd value')"
   ]
  },
  {
   "cell_type": "code",
   "execution_count": 76,
   "metadata": {},
   "outputs": [
    {
     "name": "stdout",
     "output_type": "stream",
     "text": [
      "a has even value\n",
      "c has even value\n",
      "d has odd value\n",
      "e has even value\n"
     ]
    }
   ],
   "source": [
    "for key in x:\n",
    "    val = x[key]\n",
    "    if val is None:\n",
    "        continue\n",
    "    if not val % 2:\n",
    "        print(f'{key} has even value')\n",
    "    else:\n",
    "        print(f'{key} has odd value')"
   ]
  },
  {
   "cell_type": "markdown",
   "metadata": {},
   "source": [
    "#### It is sometimes cleaner to minimize the number of `else`'s, although the binary nature of this example may make this seem strange. Again, this does the same as before:"
   ]
  },
  {
   "cell_type": "code",
   "execution_count": 77,
   "metadata": {},
   "outputs": [
    {
     "name": "stdout",
     "output_type": "stream",
     "text": [
      "a has even value\n",
      "c has even value\n",
      "d has odd value\n",
      "e has even value\n"
     ]
    }
   ],
   "source": [
    "for key in x:\n",
    "    val = x[key]\n",
    "    if val is None:\n",
    "        continue\n",
    "    if not val % 2:\n",
    "        print(f'{key} has even value')\n",
    "        continue\n",
    "    print(f'{key} has odd value')"
   ]
  },
  {
   "cell_type": "markdown",
   "metadata": {},
   "source": [
    "## Note on Loop Operations\n",
    "\n",
    "### There is logic imbedded inside the for-loop (and while-loop) operation. At the end of each iteration, there is an if-statement checking if there is a next step. If there is not a next step, an `else` statement can be triggered."
   ]
  },
  {
   "cell_type": "code",
   "execution_count": 78,
   "metadata": {},
   "outputs": [
    {
     "name": "stdout",
     "output_type": "stream",
     "text": [
      "0\n",
      "1\n",
      "2\n",
      "3\n",
      "complete\n"
     ]
    }
   ],
   "source": [
    "for i in range(4):\n",
    "    print(i)\n",
    "else:\n",
    "    print('complete')"
   ]
  },
  {
   "cell_type": "markdown",
   "metadata": {},
   "source": [
    "#### This is useful with `break` statements to check if something didn't happen inside the loop. These two processes do the same thing:"
   ]
  },
  {
   "cell_type": "code",
   "execution_count": 79,
   "metadata": {},
   "outputs": [],
   "source": [
    "x = {'a': 0,\n",
    "     'b': None,\n",
    "     'c': 2,\n",
    "     'd': 3,\n",
    "     'e': 4}"
   ]
  },
  {
   "cell_type": "code",
   "execution_count": 80,
   "metadata": {},
   "outputs": [],
   "source": [
    "# Check for None values in dictionary\n",
    "isNone = False\n",
    "for key in x:\n",
    "    val = x[key]\n",
    "    if val is None:\n",
    "        isNone = True\n",
    "        break        \n",
    "if not isNone:\n",
    "    print('There are no None values')"
   ]
  },
  {
   "cell_type": "code",
   "execution_count": 81,
   "metadata": {},
   "outputs": [],
   "source": [
    "# Check for None values in dictionary\n",
    "for key in x:\n",
    "    val = x[key]\n",
    "    if val is None:\n",
    "        break        \n",
    "else:\n",
    "    # Doesn't get called when for-loop is broken\n",
    "    print('There are no None values')"
   ]
  },
  {
   "cell_type": "markdown",
   "metadata": {},
   "source": [
    "#### Obviously neither of these processes print anything, because `x` has a `None` value. This entire process could be more useful inside a function with the ability to return values, which is talked about in another section."
   ]
  },
  {
   "cell_type": "markdown",
   "metadata": {},
   "source": [
    "## List Comprehension\n",
    "\n",
    "### List comprehension is another great method of shorthand in Python. They are used to create lists or perform actions iterably in a compact and (hopefully) readble way. It is often more preferred and Pythonic to use this form."
   ]
  },
  {
   "cell_type": "code",
   "execution_count": 82,
   "metadata": {},
   "outputs": [],
   "source": [
    "x = [0, 1, 2, 3, 4]"
   ]
  },
  {
   "cell_type": "markdown",
   "metadata": {},
   "source": [
    "#### Create a new list that has some action to it:"
   ]
  },
  {
   "cell_type": "code",
   "execution_count": 83,
   "metadata": {},
   "outputs": [
    {
     "data": {
      "text/plain": [
       "[0, 1, 4, 9, 16]"
      ]
     },
     "execution_count": 83,
     "metadata": {},
     "output_type": "execute_result"
    }
   ],
   "source": [
    "[i**2 for i in x]"
   ]
  },
  {
   "cell_type": "code",
   "execution_count": 84,
   "metadata": {},
   "outputs": [
    {
     "name": "stdout",
     "output_type": "stream",
     "text": [
      "0.0\n",
      "0.5\n",
      "1.0\n",
      "1.5\n",
      "2.0\n"
     ]
    }
   ],
   "source": [
    "for i in [y / 2 for y in x]:\n",
    "    print(i)"
   ]
  },
  {
   "cell_type": "code",
   "execution_count": 85,
   "metadata": {},
   "outputs": [
    {
     "data": {
      "text/plain": [
       "[0, 3]"
      ]
     },
     "execution_count": 85,
     "metadata": {},
     "output_type": "execute_result"
    }
   ],
   "source": [
    "[b for b in x if b % 3 == 0]"
   ]
  },
  {
   "cell_type": "markdown",
   "metadata": {},
   "source": [
    "#### You can even peform functions in the list comprehension:"
   ]
  },
  {
   "cell_type": "code",
   "execution_count": 86,
   "metadata": {},
   "outputs": [
    {
     "name": "stdout",
     "output_type": "stream",
     "text": [
      "even number in x: 0\n",
      "even number in x: 2\n",
      "even number in x: 4\n"
     ]
    },
    {
     "data": {
      "text/plain": [
       "[None, None, None]"
      ]
     },
     "execution_count": 86,
     "metadata": {},
     "output_type": "execute_result"
    }
   ],
   "source": [
    "[print(f'even number in x: {i}') for i in x if not i % 2]"
   ]
  },
  {
   "cell_type": "markdown",
   "metadata": {},
   "source": [
    "#### This still generates a list of whatever the function returns (`print()` returns `None`-types), as seen above.\n",
    "\n",
    "#### It is important to note that this process produces the entire list at once and holds the output list in memory (until the garbage collector takes it away, so after it is iterated over or displayed). This is often not ideal as you could create very large lists, so you may want to use the generator form, which is described in the next section."
   ]
  },
  {
   "cell_type": "markdown",
   "metadata": {},
   "source": [
    "## Generators\n",
    "\n",
    "### Generators are iterable objects of which the elements are 'generated' one at a time. This means every element is not stored in memory all at once. This is of course ideal when you wish to iterate over many different elements.\n",
    "\n",
    "### You can create generator in two ways. In this section we will only talk about creating generators as it relates to list comprehension and general iteration. Another method of creating generators is related to functions, and it is discussed in a later 'functions' section."
   ]
  },
  {
   "cell_type": "markdown",
   "metadata": {},
   "source": [
    "#### An example of a generator is `range()`, where every integer in the range is not given at once, but rather it outputs one integer at a time as it is iterated over. This is why `range()` only returns a (range) generator object instead of a list, tuple, etc.:"
   ]
  },
  {
   "cell_type": "code",
   "execution_count": 87,
   "metadata": {},
   "outputs": [
    {
     "data": {
      "text/plain": [
       "range(0, 4)"
      ]
     },
     "execution_count": 87,
     "metadata": {},
     "output_type": "execute_result"
    }
   ],
   "source": [
    "range(4)"
   ]
  },
  {
   "cell_type": "markdown",
   "metadata": {},
   "source": [
    "#### You can create a generator in the same way as lists in list comprehension. The difference is in the usage of `()` instead of `[]`, and as a result each element is calculated one at a time:"
   ]
  },
  {
   "cell_type": "code",
   "execution_count": 88,
   "metadata": {},
   "outputs": [
    {
     "name": "stdout",
     "output_type": "stream",
     "text": [
      "<generator object <genexpr> at 0x01464E70>\n",
      "0\n",
      "1\n",
      "4\n",
      "9\n",
      "16\n"
     ]
    }
   ],
   "source": [
    "x = [0, 1, 2, 3, 4]\n",
    "y = (i**2 for i in x)\n",
    "\n",
    "print(y)\n",
    "for j in y:\n",
    "    print(j)"
   ]
  },
  {
   "cell_type": "markdown",
   "metadata": {},
   "source": [
    "#### You can also convert generators into lists:"
   ]
  },
  {
   "cell_type": "code",
   "execution_count": 89,
   "metadata": {},
   "outputs": [
    {
     "data": {
      "text/plain": [
       "[0, 1, 4, 9, 16]"
      ]
     },
     "execution_count": 89,
     "metadata": {},
     "output_type": "execute_result"
    }
   ],
   "source": [
    "x = [0, 1, 2, 3, 4]\n",
    "y = (i**2 for i in x)\n",
    "\n",
    "list(y)"
   ]
  },
  {
   "cell_type": "markdown",
   "metadata": {},
   "source": [
    "#### It is often very useful to use generators whenever you can. This means whenever you don't need to go back later and get indices of some element, or any other case when you need to store the list."
   ]
  },
  {
   "cell_type": "markdown",
   "metadata": {},
   "source": [
    "## Enumerations\n",
    "\n",
    "### Enumerating in Python provides the ability to get the index and element of some iterable at the same time, which is often useful. It is a generating action, and for each element it returns a tuple of the index and the element."
   ]
  },
  {
   "cell_type": "code",
   "execution_count": 90,
   "metadata": {},
   "outputs": [
    {
     "name": "stdout",
     "output_type": "stream",
     "text": [
      "0 a\n",
      "1 b\n",
      "2 c\n",
      "3 d\n"
     ]
    }
   ],
   "source": [
    "x = ['a', 'b', 'c', 'd']\n",
    "for i, elem in enumerate(x):\n",
    "    print(i, elem)"
   ]
  },
  {
   "cell_type": "markdown",
   "metadata": {},
   "source": [
    "#### This can of course work with generators and any other iterable."
   ]
  }
 ],
 "metadata": {
  "kernelspec": {
   "display_name": "Python 3",
   "language": "python",
   "name": "python3"
  },
  "language_info": {
   "codemirror_mode": {
    "name": "ipython",
    "version": 3
   },
   "file_extension": ".py",
   "mimetype": "text/x-python",
   "name": "python",
   "nbconvert_exporter": "python",
   "pygments_lexer": "ipython3",
   "version": "3.7.0"
  }
 },
 "nbformat": 4,
 "nbformat_minor": 4
}

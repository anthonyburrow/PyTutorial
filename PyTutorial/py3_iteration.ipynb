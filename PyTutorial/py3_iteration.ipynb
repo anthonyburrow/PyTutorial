{
 "cells": [
  {
   "cell_type": "markdown",
   "metadata": {},
   "source": [
    "# Iteration in Python"
   ]
  },
  {
   "cell_type": "markdown",
   "metadata": {},
   "source": [
    "## Iterables\n",
    "\n",
    "Iteration is one of the most common actions in Python. It allows you to populate or work with members of lists, dictionaries, etc. without explicity writing out commands that correspond to each member. Any object that you can iterate over (like lists, tuples, dictionaries, etc.) are called **iterables**."
   ]
  },
  {
   "cell_type": "markdown",
   "metadata": {},
   "source": [
    "## For-Loops\n",
    "\n",
    "`for`-loops are a common iteration method in most languages. As stated above, they simplify the ability to perform any action on or using every element of some iterable.\n",
    "\n",
    "In most languages, it is common to iterate over indices of elements in an iterable. You do this in Python with a `for`-loop and an object called `range()`:"
   ]
  },
  {
   "cell_type": "code",
   "execution_count": 1,
   "metadata": {},
   "outputs": [
    {
     "name": "stdout",
     "output_type": "stream",
     "text": [
      "Index: 0, Value: a\n",
      "Index: 1, Value: b\n",
      "Index: 2, Value: c\n"
     ]
    }
   ],
   "source": [
    "x = ['a', 'b', 'c']\n",
    "for i in range(3):\n",
    "    print(f'Index: {i}, Value: {x[i]}')"
   ]
  },
  {
   "cell_type": "markdown",
   "metadata": {},
   "source": [
    "Note that the `i` variable created is arbitrary, and it can be called anything you want. However, it does literally create a new variable with that name, so don't call it the same thing as previous variables you intend to keep.\n",
    "\n",
    "You can of course use `len()` to automatically check how long the list is if you want to iterate over the entire list:"
   ]
  },
  {
   "cell_type": "code",
   "execution_count": 2,
   "metadata": {},
   "outputs": [
    {
     "name": "stdout",
     "output_type": "stream",
     "text": [
      "Index: 0, Value: a\n",
      "Index: 1, Value: b\n",
      "Index: 2, Value: c\n",
      "Index: 3, Value: d\n"
     ]
    }
   ],
   "source": [
    "x = ['a', 'b', 'c', 'd']\n",
    "for i in range(len(x)):\n",
    "    print(f'Index: {i}, Value: {x[i]}')"
   ]
  },
  {
   "cell_type": "markdown",
   "metadata": {},
   "source": [
    "`range()` is actually an Iterable object. It has a few parameters you can pass, such as a starting point, end point, and step size. If only one value is passed, then it specifies only the end value, meaning it iterates from 0 up to **and not including** the end value.\n",
    "\n",
    "In general, it is actually more \"Pythonic\" to iterate over the elements of the iterable themselves, rather than the indices:"
   ]
  },
  {
   "cell_type": "code",
   "execution_count": 3,
   "metadata": {},
   "outputs": [
    {
     "name": "stdout",
     "output_type": "stream",
     "text": [
      "a\n",
      "b\n",
      "c\n"
     ]
    }
   ],
   "source": [
    "x = ['a', 'b', 'c']\n",
    "for element in x:\n",
    "    print(element)"
   ]
  },
  {
   "cell_type": "markdown",
   "metadata": {},
   "source": [
    "## While-Loops\n",
    "\n",
    "`while`-loops are another iteration method that allow you to iterate as long as some condition is met. The argument after `while` is some boolean-returning condition."
   ]
  },
  {
   "cell_type": "code",
   "execution_count": 4,
   "metadata": {},
   "outputs": [
    {
     "name": "stdout",
     "output_type": "stream",
     "text": [
      "0\n",
      "1\n",
      "2\n",
      "3\n",
      "4\n"
     ]
    }
   ],
   "source": [
    "count = 0\n",
    "while count < 5:\n",
    "    print(count)\n",
    "    count += 1"
   ]
  },
  {
   "cell_type": "markdown",
   "metadata": {},
   "source": [
    "With `while`-loops, it is almost always important to implement some way of breaking out of the loop, or else your program will run indefinitely. This is done using the argument of the `while`-loop with logic or with control statements (see next section).\n",
    "\n",
    "However, there are some programs (games, UIs, automation scripts, etc.) that actually want to run indefinitely, and can call with the following structure (it is all commented out so it doesn't actually run forever here):"
   ]
  },
  {
   "cell_type": "code",
   "execution_count": 5,
   "metadata": {},
   "outputs": [],
   "source": [
    "# def update():   # Arbitrary function to be repeated\n",
    "#     pass\n",
    "\n",
    "# while True:     # Always True, so runs forever\n",
    "#     update()    # Function repeatedly called"
   ]
  },
  {
   "cell_type": "markdown",
   "metadata": {},
   "source": [
    "## Control Statements\n",
    "\n",
    "These control operations allow you to have more control over iterations. These control statements are the `break`, `continue`, and `pass` statements."
   ]
  },
  {
   "cell_type": "markdown",
   "metadata": {},
   "source": [
    "`break` allows you to completely exit (stop iterating over) the current loop. Note that if you are in a nested loop, this does not exit every loop, but just the innermost loop that contains the `break`."
   ]
  },
  {
   "cell_type": "code",
   "execution_count": 6,
   "metadata": {},
   "outputs": [
    {
     "name": "stdout",
     "output_type": "stream",
     "text": [
      "0\n",
      "1\n",
      "2\n",
      "3\n"
     ]
    }
   ],
   "source": [
    "for i in range(100):\n",
    "    print(i)\n",
    "    if i == 3:\n",
    "        break"
   ]
  },
  {
   "cell_type": "code",
   "execution_count": 7,
   "metadata": {},
   "outputs": [
    {
     "name": "stdout",
     "output_type": "stream",
     "text": [
      "0\n",
      "1\n",
      "2\n",
      "3\n",
      "4\n"
     ]
    }
   ],
   "source": [
    "count = 0\n",
    "while True:\n",
    "    print(count)\n",
    "    count += 1\n",
    "    if count > 4:\n",
    "        break"
   ]
  },
  {
   "cell_type": "markdown",
   "metadata": {},
   "source": [
    "`continue` allows you to skip to the next iteration:"
   ]
  },
  {
   "cell_type": "code",
   "execution_count": 8,
   "metadata": {},
   "outputs": [
    {
     "name": "stdout",
     "output_type": "stream",
     "text": [
      "0\n",
      "2\n",
      "4\n"
     ]
    }
   ],
   "source": [
    "x = [0, 1, 2, 3, 4, 5]\n",
    "for i in range(len(x)):\n",
    "    if i % 2:   # 0 -> False; meaning continue called when i % 2 == 1 (odd numbers)\n",
    "        continue\n",
    "    print(i)"
   ]
  },
  {
   "cell_type": "markdown",
   "metadata": {},
   "source": [
    "`pass` is a null operation. It means \"don't do anything\", and you can use it even outside of loops."
   ]
  },
  {
   "cell_type": "code",
   "execution_count": 9,
   "metadata": {},
   "outputs": [
    {
     "name": "stdout",
     "output_type": "stream",
     "text": [
      "1\n",
      "2\n",
      "4\n",
      "5\n",
      "7\n"
     ]
    }
   ],
   "source": [
    "for i in range(8):\n",
    "    if i % 3 == 0:\n",
    "        pass\n",
    "    else:\n",
    "        print(i)"
   ]
  },
  {
   "cell_type": "markdown",
   "metadata": {},
   "source": [
    "Usually you can make code much more elegant by using control statements. They can help minimize a large number of nested `for`-loops, which could make code more readable instead of having a lot of indentation. Indentation can pile up very quickly.\n",
    "\n",
    "These two processes do the same thing:"
   ]
  },
  {
   "cell_type": "code",
   "execution_count": 10,
   "metadata": {},
   "outputs": [],
   "source": [
    "x = {\n",
    "    'a': 0,\n",
    "    'b': None,\n",
    "    'c': 2,\n",
    "    'd': 3,\n",
    "    'e': 4\n",
    "}"
   ]
  },
  {
   "cell_type": "code",
   "execution_count": 11,
   "metadata": {},
   "outputs": [
    {
     "name": "stdout",
     "output_type": "stream",
     "text": [
      "a has even value\n",
      "c has even value\n",
      "d has odd value\n",
      "e has even value\n"
     ]
    }
   ],
   "source": [
    "for key, value in x.items():\n",
    "    if value is not None:\n",
    "        if not value % 2:\n",
    "            print(f'{key} has even value')\n",
    "        else:\n",
    "            print(f'{key} has odd value')"
   ]
  },
  {
   "cell_type": "code",
   "execution_count": 12,
   "metadata": {},
   "outputs": [
    {
     "name": "stdout",
     "output_type": "stream",
     "text": [
      "a has even value\n",
      "c has even value\n",
      "d has odd value\n",
      "e has even value\n"
     ]
    }
   ],
   "source": [
    "for key, value in x.items():\n",
    "    if value is None:   # Guard clause\n",
    "        continue\n",
    "    if not value % 2:\n",
    "        print(f'{key} has even value')\n",
    "    else:\n",
    "        print(f'{key} has odd value')"
   ]
  },
  {
   "cell_type": "markdown",
   "metadata": {},
   "source": [
    "The second process implemented what is known as a \"guard clause\", which is a statement usually placed at the beginning of a block of code to immediately exit when possible to not waste computation time on exceptional cases (in this case when `val is None`). Note: `None` is a null value in Python, and you check if something is `None` using `is` rather than `==`.\n",
    "\n",
    "It is sometimes cleaner to minimize the number of `else`'s, depending on the context of the function. We can clean this up a little further with:"
   ]
  },
  {
   "cell_type": "code",
   "execution_count": 13,
   "metadata": {},
   "outputs": [
    {
     "name": "stdout",
     "output_type": "stream",
     "text": [
      "a has even value\n",
      "c has even value\n",
      "d has odd value\n",
      "e has even value\n"
     ]
    }
   ],
   "source": [
    "for key, value in x.items():\n",
    "    if value is None:\n",
    "        continue\n",
    "    if not value % 2:\n",
    "        print(f'{key} has even value')\n",
    "        continue\n",
    "    print(f'{key} has odd value')"
   ]
  },
  {
   "cell_type": "markdown",
   "metadata": {},
   "source": [
    "## Note on Loop Operations\n",
    "\n",
    "There is internal logic imbedded inside `for`-loop and `while`-loop operations. At the end of each iteration, there is an `if`-statement checking if there is a next step. If there is not a next step, an `else` statement can be triggered."
   ]
  },
  {
   "cell_type": "code",
   "execution_count": 14,
   "metadata": {},
   "outputs": [
    {
     "name": "stdout",
     "output_type": "stream",
     "text": [
      "0\n",
      "1\n",
      "2\n",
      "3\n",
      "complete\n"
     ]
    }
   ],
   "source": [
    "for i in range(4):\n",
    "    print(i)\n",
    "else:\n",
    "    print('complete')"
   ]
  },
  {
   "cell_type": "markdown",
   "metadata": {},
   "source": [
    "This is useful with `break` statements to check if the loop did not iterate over every possible element. These two processes do the same thing:"
   ]
  },
  {
   "cell_type": "code",
   "execution_count": 15,
   "metadata": {},
   "outputs": [],
   "source": [
    "x = {\n",
    "    'a': 0,\n",
    "    'b': None,\n",
    "    'c': 2,\n",
    "    'd': 3,\n",
    "    'e': 4\n",
    "}"
   ]
  },
  {
   "cell_type": "code",
   "execution_count": 16,
   "metadata": {},
   "outputs": [],
   "source": [
    "# Check for None values in dictionary\n",
    "isNone = False\n",
    "for key, value in x.items():\n",
    "    if value is None:\n",
    "        isNone = True\n",
    "        break\n",
    "\n",
    "if not isNone:\n",
    "    print('There are no None values')"
   ]
  },
  {
   "cell_type": "code",
   "execution_count": 17,
   "metadata": {},
   "outputs": [],
   "source": [
    "# Check for None values in dictionary\n",
    "for key, value in x.items():\n",
    "    if value is None:\n",
    "        break\n",
    "else:\n",
    "    # Doesn't get called when for-loop is broken\n",
    "    print('There are no None values')"
   ]
  },
  {
   "cell_type": "markdown",
   "metadata": {},
   "source": [
    "Obviously neither of these processes print anything, because `x` contains a `None` value. This entire process could be more useful inside a function with the ability to return values, which is discussed in another section."
   ]
  },
  {
   "cell_type": "markdown",
   "metadata": {},
   "source": [
    "## List Comprehension\n",
    "\n",
    "List comprehension is another great method of shorthand in Python. They are used to create lists or perform actions iterably in a compact and (hopefully) readble way. It is often more preferred and Pythonic to use this form for short tasks."
   ]
  },
  {
   "cell_type": "markdown",
   "metadata": {},
   "source": [
    "Create a new list that has some action to it:"
   ]
  },
  {
   "cell_type": "code",
   "execution_count": 18,
   "metadata": {},
   "outputs": [
    {
     "name": "stdout",
     "output_type": "stream",
     "text": [
      "[0, 1, 4, 9, 16]\n"
     ]
    }
   ],
   "source": [
    "x = [0, 1, 2, 3, 4]\n",
    "x_sq = [i**2 for i in x]\n",
    "print(x_sq)"
   ]
  },
  {
   "cell_type": "markdown",
   "metadata": {},
   "source": [
    "Logic with `if` statements may also be used in list comprehensions:"
   ]
  },
  {
   "cell_type": "code",
   "execution_count": 19,
   "metadata": {},
   "outputs": [
    {
     "name": "stdout",
     "output_type": "stream",
     "text": [
      "[0, 2, 4]\n"
     ]
    }
   ],
   "source": [
    "x = [0, 1, 2, 3, 4]\n",
    "x_evens = [i for i in x if i % 2 == 0]\n",
    "print(x_evens)"
   ]
  },
  {
   "cell_type": "markdown",
   "metadata": {},
   "source": [
    "You can even peform functions (see Functions notebook) in a list comprehension:"
   ]
  },
  {
   "cell_type": "code",
   "execution_count": 20,
   "metadata": {},
   "outputs": [
    {
     "name": "stdout",
     "output_type": "stream",
     "text": [
      "0 is an even number\n",
      "2 is an even number\n",
      "4 is an even number\n"
     ]
    },
    {
     "data": {
      "text/plain": [
       "[None, None, None]"
      ]
     },
     "execution_count": 20,
     "metadata": {},
     "output_type": "execute_result"
    }
   ],
   "source": [
    "[print(f'{i} is an even number') for i in x if not i % 2]"
   ]
  },
  {
   "cell_type": "markdown",
   "metadata": {},
   "source": [
    "This still generates a list of whatever the function returns (`print()` returns a `None` value), as seen above.\n",
    "\n",
    "It is important to note that this process produces the entire list at once and holds the output list in memory. This is often not ideal as you could create very large lists, so you may want to use the generator form, which is described in the next section."
   ]
  },
  {
   "cell_type": "markdown",
   "metadata": {},
   "source": [
    "## Generators\n",
    "\n",
    "Generators are iterable objects of which the elements are generated one at a time. This means every element is not stored in memory all at once. This is of course ideal when you wish to iterate over more values than your memory will allow, or in general it cuts out much of the overhead memory required for a lot of computational problems.\n",
    "\n",
    "You can create generator in two ways. In this section we will only talk about creating generators as it relates to list comprehension and general iteration. Another method of creating generators is related to functions, and it is discussed in the Functions notebook."
   ]
  },
  {
   "cell_type": "markdown",
   "metadata": {},
   "source": [
    "That said, you can first create a generator in the same way as lists in list comprehension. The difference is in the usage of `()` instead of `[]`, and as a result each element is calculated one at a time:"
   ]
  },
  {
   "cell_type": "code",
   "execution_count": 21,
   "metadata": {},
   "outputs": [
    {
     "name": "stdout",
     "output_type": "stream",
     "text": [
      "<generator object <genexpr> at 0x00000202771AB920>\n",
      "0\n",
      "1\n",
      "4\n",
      "9\n",
      "16\n"
     ]
    }
   ],
   "source": [
    "x = [0, 1, 2, 3, 4]\n",
    "x_sq = (i**2 for i in x)   # The squared numbers are not held in memory at this point\n",
    "\n",
    "print(x_sq)\n",
    "for i in x_sq:   # Squared numbers are calculated here and assigned to `i`, and `i` is overwritten with the next number after each iteration\n",
    "    print(i)"
   ]
  },
  {
   "cell_type": "markdown",
   "metadata": {},
   "source": [
    "You can also convert generators into lists:"
   ]
  },
  {
   "cell_type": "code",
   "execution_count": 22,
   "metadata": {},
   "outputs": [
    {
     "name": "stdout",
     "output_type": "stream",
     "text": [
      "[0, 1, 4, 9, 16]\n"
     ]
    }
   ],
   "source": [
    "x = [0, 1, 2, 3, 4]\n",
    "y = (i**2 for i in x)\n",
    "\n",
    "print(list(y))"
   ]
  },
  {
   "cell_type": "markdown",
   "metadata": {},
   "source": [
    "It is often very useful to use generators whenever you can. This means whenever you don't need to go back later and get indices of some element, or any other case when you need to store the list for later."
   ]
  },
  {
   "cell_type": "markdown",
   "metadata": {},
   "source": [
    "Although it is technically not a true generator, the `range()` object acts like a generator, where numbers are generated sequentially rather than all at once. This is why `range()` only returns a `range` object instead of a list, tuple, etc.:"
   ]
  },
  {
   "cell_type": "code",
   "execution_count": 23,
   "metadata": {},
   "outputs": [
    {
     "data": {
      "text/plain": [
       "range(0, 4)"
      ]
     },
     "execution_count": 23,
     "metadata": {},
     "output_type": "execute_result"
    }
   ],
   "source": [
    "range(4)"
   ]
  },
  {
   "cell_type": "markdown",
   "metadata": {},
   "source": [
    "## Enumerations\n",
    "\n",
    "Enumerating in Python provides the ability to get the index and element of some iterable at the same time, which is often useful. It is a generating action, and for each element it returns a tuple of the index and the element."
   ]
  },
  {
   "cell_type": "code",
   "execution_count": 27,
   "metadata": {},
   "outputs": [
    {
     "name": "stdout",
     "output_type": "stream",
     "text": [
      "index: 0, value: a\n",
      "index: 1, value: b\n",
      "index: 2, value: c\n",
      "index: 3, value: d\n"
     ]
    }
   ],
   "source": [
    "x = ['a', 'b', 'c', 'd']\n",
    "for i, value in enumerate(x):\n",
    "    print(f'index: {i}, value: {value}')"
   ]
  },
  {
   "cell_type": "code",
   "execution_count": 28,
   "metadata": {},
   "outputs": [
    {
     "name": "stdout",
     "output_type": "stream",
     "text": [
      "index: 0, value: a\n",
      "index: 1, value: b\n",
      "index: 2, value: c\n",
      "index: 3, value: d\n"
     ]
    }
   ],
   "source": [
    "# Same thing, but the tuple is unpacked in a different place\n",
    "x = ['a', 'b', 'c', 'd']\n",
    "for info in enumerate(x):\n",
    "    i, value = info\n",
    "    print(f'index: {i}, value: {value}')"
   ]
  },
  {
   "cell_type": "markdown",
   "metadata": {},
   "source": [
    "This can of course work with generators and any other iterable."
   ]
  }
 ],
 "metadata": {
  "kernelspec": {
   "display_name": "Python 3 (ipykernel)",
   "language": "python",
   "name": "python3"
  },
  "language_info": {
   "codemirror_mode": {
    "name": "ipython",
    "version": 3
   },
   "file_extension": ".py",
   "mimetype": "text/x-python",
   "name": "python",
   "nbconvert_exporter": "python",
   "pygments_lexer": "ipython3",
   "version": "3.10.7"
  }
 },
 "nbformat": 4,
 "nbformat_minor": 4
}

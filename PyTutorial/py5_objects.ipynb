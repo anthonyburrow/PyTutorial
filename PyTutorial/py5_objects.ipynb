{
 "cells": [
  {
   "cell_type": "markdown",
   "metadata": {},
   "source": [
    "# Object-Oriented Programming in Python"
   ]
  },
  {
   "cell_type": "markdown",
   "metadata": {},
   "source": [
    "## Objects\n",
    "\n",
    "### Almost everything in Python is an object. This includes anything from numbers and strings to objects that the user can create and make use of however they desire. To use an object, it is always instantiated or created, and in turn the single occurence of any object is called an instance."
   ]
  },
  {
   "cell_type": "markdown",
   "metadata": {},
   "source": [
    "## Classes\n",
    "\n",
    "### Classes are often referred to as \"blueprints\" of objects. They are how you define a type of an object that you may instantiate any number of times. The different instances of the objects usually have different qualities, even if they stem from the same class.\n",
    "\n",
    "### Because of the encapsulated (contained) nature of objects and classes, it is often useful and even preferred to keep closely related code inside of a corresponding class, instead of keeping everything global (module level - all of which will be explained in \"importing\" sections). This will hopefully become clear throughout the following sections."
   ]
  },
  {
   "cell_type": "markdown",
   "metadata": {},
   "source": [
    "#### We will start by thinking about creating a simple banking system. This system has many related quantities and actions, and so a class would be a good candidate to represent it.\n",
    "\n",
    "#### Define an empty class:"
   ]
  },
  {
   "cell_type": "code",
   "execution_count": 16,
   "metadata": {},
   "outputs": [],
   "source": [
    "class Bank:\n",
    "    pass"
   ]
  },
  {
   "cell_type": "markdown",
   "metadata": {},
   "source": [
    "#### Classes have attributes, which are effectively variables related to the class. Class attributes are attributes related to the class itself, and are shared between every instance of the class. Instance attributes are specifically variables dedicated to any single instance of the class. We will talk about these in a bit.\n",
    "\n",
    "#### Classes also have functions related to itself, and these are called methods."
   ]
  },
  {
   "cell_type": "code",
   "execution_count": 17,
   "metadata": {},
   "outputs": [],
   "source": [
    "class Bank:\n",
    "    # class attribute\n",
    "    a = 'This is a bank.'\n",
    "    \n",
    "    def f(x):\n",
    "        print(x**2)"
   ]
  },
  {
   "cell_type": "markdown",
   "metadata": {},
   "source": [
    "#### You can call the class and its class attributes/methods using just the class name as follows:"
   ]
  },
  {
   "cell_type": "code",
   "execution_count": 18,
   "metadata": {},
   "outputs": [
    {
     "data": {
      "text/plain": [
       "'This is a bank.'"
      ]
     },
     "execution_count": 18,
     "metadata": {},
     "output_type": "execute_result"
    }
   ],
   "source": [
    "Bank.a"
   ]
  },
  {
   "cell_type": "code",
   "execution_count": 19,
   "metadata": {},
   "outputs": [
    {
     "name": "stdout",
     "output_type": "stream",
     "text": [
      "9\n"
     ]
    }
   ],
   "source": [
    "Bank.f(3)"
   ]
  },
  {
   "cell_type": "markdown",
   "metadata": {},
   "source": [
    "## Instances and Constructors\n",
    "\n",
    "### Making use of class attributes and class methods have their time and place, but many times we wish to instantiate objects that have their own information.\n",
    "\n",
    "### When we instantiate an object, we can start it off with its own initial qualities, or we can have it perform initial actions. We do this using what is called a constructor. In other languages the constructor is a method that has the exact same name as the class, however in Python this is the `__init__` method. This method is called when the object is instantiated.\n",
    "\n",
    "### The constructor must always have a `self` argument. `self` inside of a class always refers to the specific instance of an object. You use this keyword when calling instance attributes or methods."
   ]
  },
  {
   "cell_type": "markdown",
   "metadata": {},
   "source": [
    "#### Below we create a class, and give the object some instance attributes, which are created when we actually instantiate an object."
   ]
  },
  {
   "cell_type": "code",
   "execution_count": 20,
   "metadata": {},
   "outputs": [],
   "source": [
    "class Bank:\n",
    "    \n",
    "    def __init__(self):\n",
    "        self.balance = 0."
   ]
  },
  {
   "cell_type": "markdown",
   "metadata": {},
   "source": [
    "#### We create an object using `()` as follows:"
   ]
  },
  {
   "cell_type": "code",
   "execution_count": 21,
   "metadata": {},
   "outputs": [],
   "source": [
    "bank = Bank()"
   ]
  },
  {
   "cell_type": "markdown",
   "metadata": {},
   "source": [
    "#### We can get instance attributes or run instance methods in the usual way:"
   ]
  },
  {
   "cell_type": "code",
   "execution_count": 22,
   "metadata": {},
   "outputs": [
    {
     "data": {
      "text/plain": [
       "0.0"
      ]
     },
     "execution_count": 22,
     "metadata": {},
     "output_type": "execute_result"
    }
   ],
   "source": [
    "bank.balance"
   ]
  },
  {
   "cell_type": "markdown",
   "metadata": {},
   "source": [
    "#### We could instantiate it with any specific qualities by passing arguments to the constructor through the arguments of the class as you instantiate the object. It works the same way as any other function, other than the first `self` argument, which is passed implicitly:"
   ]
  },
  {
   "cell_type": "code",
   "execution_count": 23,
   "metadata": {},
   "outputs": [
    {
     "data": {
      "text/plain": [
       "10.0"
      ]
     },
     "execution_count": 23,
     "metadata": {},
     "output_type": "execute_result"
    }
   ],
   "source": [
    "class Bank:\n",
    "    \n",
    "    def __init__(self, balance):\n",
    "        self.balance = balance\n",
    "\n",
    "bank = Bank(10.)\n",
    "bank.balance"
   ]
  },
  {
   "cell_type": "markdown",
   "metadata": {},
   "source": [
    "#### The difference between `self.balance` and `balance` is that the former is an instance attribute which can be called from outside the class, and the latter is just a method argument/variable that can't even be called outside the method. `balance` could have been called whatever you want; it does not need to share a name with the instance attribute."
   ]
  },
  {
   "cell_type": "markdown",
   "metadata": {},
   "source": [
    "#### Methods that need to refer to the instance must have `self` as the first argument, and you do not need to pass it anything in the place of `self` when you try to call it, similar to the constructor:"
   ]
  },
  {
   "cell_type": "code",
   "execution_count": 24,
   "metadata": {},
   "outputs": [],
   "source": [
    "class Bank:\n",
    "\n",
    "    def __init__(self, init_balance):\n",
    "        self.balance = init_balance\n",
    "        \n",
    "    def deposit(self, amount):\n",
    "        self.balance += amount"
   ]
  },
  {
   "cell_type": "code",
   "execution_count": 25,
   "metadata": {},
   "outputs": [
    {
     "data": {
      "text/plain": [
       "0.0"
      ]
     },
     "execution_count": 25,
     "metadata": {},
     "output_type": "execute_result"
    }
   ],
   "source": [
    "bank = Bank(0.)\n",
    "bank.balance"
   ]
  },
  {
   "cell_type": "code",
   "execution_count": 26,
   "metadata": {},
   "outputs": [
    {
     "data": {
      "text/plain": [
       "40.0"
      ]
     },
     "execution_count": 26,
     "metadata": {},
     "output_type": "execute_result"
    }
   ],
   "source": [
    "bank.deposit(40)\n",
    "bank.balance"
   ]
  },
  {
   "cell_type": "markdown",
   "metadata": {},
   "source": [
    "#### You call other methods in the constructor (or anywhere) using the `self` keyword:"
   ]
  },
  {
   "cell_type": "code",
   "execution_count": 27,
   "metadata": {},
   "outputs": [
    {
     "data": {
      "text/plain": [
       "30.0"
      ]
     },
     "execution_count": 27,
     "metadata": {},
     "output_type": "execute_result"
    }
   ],
   "source": [
    "class Bank:\n",
    "\n",
    "    def __init__(self, init_balance):\n",
    "        self.balance = 0.\n",
    "        self.deposit(init_balance)\n",
    "        \n",
    "    def deposit(self, amount):\n",
    "        self.balance += amount\n",
    "\n",
    "    def withdraw(self, amount):\n",
    "        self.balance -= amount\n",
    "\n",
    "bank = Bank(50)\n",
    "bank.withdraw(20)\n",
    "bank.balance"
   ]
  },
  {
   "cell_type": "markdown",
   "metadata": {},
   "source": [
    "## Inheritance\n",
    "\n",
    "### Inheritance allows you to \"derive\" a class from another class, in such a way that it will share attributes and methods as well as be able to extend that class in some way. This mitigates the need to rewrite a lot of code if your program is even remotely complex. The derived class is called the subclass, and the base class is called the superclass."
   ]
  },
  {
   "cell_type": "markdown",
   "metadata": {},
   "source": [
    "#### Create a class (we use animals as an example):"
   ]
  },
  {
   "cell_type": "code",
   "execution_count": 28,
   "metadata": {},
   "outputs": [],
   "source": [
    "class Animal:\n",
    "\n",
    "    def __init__(self, species, name=None):\n",
    "        self.name = name\n",
    "        self.species = species\n",
    "\n",
    "    def print_species(self):\n",
    "        print(f'This is a {self.species}')\n",
    "\n",
    "    def print_name(self):\n",
    "        if self.name is None:\n",
    "            print('This creature needs a name')\n",
    "            return\n",
    "        print(self.name)"
   ]
  },
  {
   "cell_type": "markdown",
   "metadata": {},
   "source": [
    "#### Create a subclass that inherits from the superclass. It can have its own methods and attributes:"
   ]
  },
  {
   "cell_type": "code",
   "execution_count": 29,
   "metadata": {},
   "outputs": [],
   "source": [
    "class Cat(Animal):\n",
    "\n",
    "    def sleep(self):\n",
    "        print('Goes to sleep')\n",
    "\n",
    "    def clean(self):\n",
    "        print('Licks self')"
   ]
  },
  {
   "cell_type": "markdown",
   "metadata": {},
   "source": [
    "#### Now when creating a `Cat` object, you can call it like an `Animal` object, but still perform `Cat`-specific actions."
   ]
  },
  {
   "cell_type": "code",
   "execution_count": 30,
   "metadata": {},
   "outputs": [
    {
     "name": "stdout",
     "output_type": "stream",
     "text": [
      "This is a cat\n",
      "This creature needs a name\n",
      "Licks self\n"
     ]
    }
   ],
   "source": [
    "cat = Cat('cat')\n",
    "cat.print_species()\n",
    "cat.print_name()\n",
    "cat.clean()"
   ]
  },
  {
   "cell_type": "markdown",
   "metadata": {},
   "source": [
    "#### If we wanted to create a constructor for the subclass, the `__init__` method would override that of the superclass. To call the constructor of the superclass, use the `super()` function as follows:"
   ]
  },
  {
   "cell_type": "code",
   "execution_count": 31,
   "metadata": {},
   "outputs": [
    {
     "name": "stdout",
     "output_type": "stream",
     "text": [
      "This is a cat\n"
     ]
    },
    {
     "data": {
      "text/plain": [
       "'Tally'"
      ]
     },
     "execution_count": 31,
     "metadata": {},
     "output_type": "execute_result"
    }
   ],
   "source": [
    "class Cat(Animal):\n",
    "\n",
    "    def __init__(self, name, species='cat'):\n",
    "        super().__init__(species, name=name)\n",
    "\n",
    "    def sleep(self):\n",
    "        print('Goes to sleep')\n",
    "\n",
    "    def clean(self):\n",
    "        print('Licks self')\n",
    "\n",
    "cat = Cat('Tally')\n",
    "cat.print_species()\n",
    "cat.name"
   ]
  },
  {
   "cell_type": "markdown",
   "metadata": {},
   "source": [
    "#### Note that it had shared all the instance attributes such as `name`. You could create any number of subclasses (e.g. a `Dog` class) that all derive from the base class. Imagine having to define the same `print_name()` method or other attributes for every subclass you have. You can hopefully see how inheritance can drastically make complex code not only much more elegant, but more manageable and readable."
   ]
  },
  {
   "cell_type": "markdown",
   "metadata": {},
   "source": [
    "## Encapsulation\n",
    "\n",
    "### Encapsulation is the idea of unitizing related information and methods, usually by the use of classes. A consequence of this modularization is that we may wish to place restrictions on information inside a unit such that it cannot be accessed from outside the unit. For example, we may want to disallow outside reference to methods in a class that will only ever have proper use inside that class. This access management can prevent issues dealing with the program's namespace (so, think of accidentally having two methods of the same name which could lead to errors or incorrectly overriding methods), or it can just prevent other users/code from accessing specific data.\n",
    "\n",
    "### There are three usual types of access. **Public** access is given to everything, inside or outside the class. **Protected** access is access granted only within the class or any derived class. **Private** access is access only granted to the class.\n",
    "\n",
    "### In other languages, access modifier keywords accomplish this, but in Python there are mostly just conventions to follow."
   ]
  },
  {
   "cell_type": "markdown",
   "metadata": {},
   "source": [
    "#### Public items are written in the standard way:"
   ]
  },
  {
   "cell_type": "code",
   "execution_count": 32,
   "metadata": {},
   "outputs": [
    {
     "name": "stdout",
     "output_type": "stream",
     "text": [
      "Addie\n"
     ]
    }
   ],
   "source": [
    "class Cat:\n",
    "\n",
    "    def __init__(self, name):\n",
    "        self.name = name\n",
    "        \n",
    "    def print_name(self):\n",
    "        print(self.name)\n",
    "\n",
    "a = Cat('Addie')\n",
    "a.print_name()"
   ]
  },
  {
   "cell_type": "markdown",
   "metadata": {},
   "source": [
    "#### Protected items are denoted by a single `_`. Note: They do not actually deny improper access, but usually anything with a `_` in front is not often called from other sources."
   ]
  },
  {
   "cell_type": "code",
   "execution_count": 33,
   "metadata": {},
   "outputs": [
    {
     "name": "stdout",
     "output_type": "stream",
     "text": [
      "Addie\n",
      "Black\n",
      "Addie\n"
     ]
    }
   ],
   "source": [
    "class Cat:\n",
    "\n",
    "    def __init__(self, name, color):\n",
    "        self.name = name\n",
    "        self.color = color\n",
    "        \n",
    "    def _print_name(self):\n",
    "        print(self.name)\n",
    "\n",
    "    def _print_color(self):\n",
    "        print(self.color)\n",
    "\n",
    "    def get_info(self):\n",
    "        self._print_name()\n",
    "        self._print_color()\n",
    "\n",
    "a = Cat('Addie', 'Black')\n",
    "a.get_info()\n",
    "a._print_name()"
   ]
  },
  {
   "cell_type": "markdown",
   "metadata": {},
   "source": [
    "#### Again, outside sources are not usually meant to call protected attributes or methods, but they still can."
   ]
  },
  {
   "cell_type": "markdown",
   "metadata": {},
   "source": [
    "#### Private items are denoted with a double-underscore, `__`. Due to what is called \"name-mangling\", this will actually prevent these private items from being accessed outside of the class:"
   ]
  },
  {
   "cell_type": "code",
   "execution_count": 34,
   "metadata": {},
   "outputs": [
    {
     "name": "stdout",
     "output_type": "stream",
     "text": [
      "Meow\n"
     ]
    }
   ],
   "source": [
    "class Cat:\n",
    "\n",
    "    def __init__(self, name, color):\n",
    "        self.name = name\n",
    "        self.color = color\n",
    "        self.__sound = 'Meow'\n",
    "\n",
    "    def make_sound(self):\n",
    "        print(self.__sound)\n",
    "\n",
    "a = Cat('Addie', 'Black')\n",
    "a.make_sound()\n",
    "\n",
    "# Trying to call the private variable outside the class would cause an error:\n",
    "# a.__sound"
   ]
  }
 ],
 "metadata": {
  "kernelspec": {
   "display_name": "Python 3",
   "language": "python",
   "name": "python3"
  },
  "language_info": {
   "codemirror_mode": {
    "name": "ipython",
    "version": 3
   },
   "file_extension": ".py",
   "mimetype": "text/x-python",
   "name": "python",
   "nbconvert_exporter": "python",
   "pygments_lexer": "ipython3",
   "version": "3.7.0"
  }
 },
 "nbformat": 4,
 "nbformat_minor": 4
}
